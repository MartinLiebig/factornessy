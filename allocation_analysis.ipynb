{
 "cells": [
  {
   "cell_type": "code",
   "execution_count": null,
   "metadata": {},
   "outputs": [],
   "source": []
  },
  {
   "cell_type": "code",
   "execution_count": 9,
   "metadata": {},
   "outputs": [],
   "source": [
    "import pandas as pd\n",
    "from factor_estimator import *\n",
    "from diversification_analyzer import *\n",
    "from IPython.display import display\n",
    "from asset_allocation import AssetAllocation\n",
    "import numpy as np\n",
    "import plotly.express as px"
   ]
  },
  {
   "cell_type": "code",
   "execution_count": null,
   "metadata": {},
   "outputs": [],
   "source": []
  },
  {
   "cell_type": "code",
   "execution_count": 2,
   "metadata": {},
   "outputs": [
    {
     "name": "stdout",
     "output_type": "stream",
     "text": [
      "MSCI World\n",
      "Value\n",
      "Quality\n",
      "Multi-Factor\n",
      "Momentum\n",
      "Small-Cap\n",
      "Low Volatility (World)\n",
      "Small-Cap (Value)\n"
     ]
    },
    {
     "name": "stderr",
     "output_type": "stream",
     "text": [
      "C:\\Users\\MartinSchmitz\\Anaconda3\\envs\\factornessy\\lib\\site-packages\\openpyxl\\styles\\stylesheet.py:221: UserWarning: Workbook contains no default style, apply openpyxl's default\n",
      "  warn(\"Workbook contains no default style, apply openpyxl's default\")\n"
     ]
    },
    {
     "name": "stdout",
     "output_type": "stream",
     "text": [
      "High-Dividend (World)\n"
     ]
    },
    {
     "data": {
      "text/html": [
       "<div>\n",
       "<style scoped>\n",
       "    .dataframe tbody tr th:only-of-type {\n",
       "        vertical-align: middle;\n",
       "    }\n",
       "\n",
       "    .dataframe tbody tr th {\n",
       "        vertical-align: top;\n",
       "    }\n",
       "\n",
       "    .dataframe thead th {\n",
       "        text-align: right;\n",
       "    }\n",
       "</style>\n",
       "<table border=\"1\" class=\"dataframe\">\n",
       "  <thead>\n",
       "    <tr style=\"text-align: right;\">\n",
       "      <th></th>\n",
       "      <th>ISIN</th>\n",
       "      <th>Name</th>\n",
       "      <th>Country</th>\n",
       "      <th>Industry Classification</th>\n",
       "      <th>MSCI World</th>\n",
       "      <th>Value</th>\n",
       "      <th>Quality</th>\n",
       "      <th>Multi-Factor</th>\n",
       "      <th>Momentum</th>\n",
       "      <th>Small-Cap</th>\n",
       "      <th>Low Volatility (World)</th>\n",
       "      <th>Small-Cap (Value)</th>\n",
       "      <th>High-Dividend (World)</th>\n",
       "    </tr>\n",
       "  </thead>\n",
       "  <tbody>\n",
       "    <tr>\n",
       "      <th>0</th>\n",
       "      <td>US0378331005</td>\n",
       "      <td>APPLE</td>\n",
       "      <td>United States</td>\n",
       "      <td>Information Technology</td>\n",
       "      <td>0.039826</td>\n",
       "      <td>0.0</td>\n",
       "      <td>0.037906</td>\n",
       "      <td>0.0198</td>\n",
       "      <td>0.048207</td>\n",
       "      <td>0.0</td>\n",
       "      <td>0.000000</td>\n",
       "      <td>0.000000e+00</td>\n",
       "      <td>0.0</td>\n",
       "    </tr>\n",
       "    <tr>\n",
       "      <th>1</th>\n",
       "      <td>US5949181045</td>\n",
       "      <td>MICROSOFT</td>\n",
       "      <td>United States</td>\n",
       "      <td>Information Technology</td>\n",
       "      <td>0.032666</td>\n",
       "      <td>0.0</td>\n",
       "      <td>0.041162</td>\n",
       "      <td>0.0115</td>\n",
       "      <td>0.052391</td>\n",
       "      <td>0.0</td>\n",
       "      <td>0.002834</td>\n",
       "      <td>0.000000e+00</td>\n",
       "      <td>0.0</td>\n",
       "    </tr>\n",
       "    <tr>\n",
       "      <th>2</th>\n",
       "      <td>US0231351067</td>\n",
       "      <td>AMAZON</td>\n",
       "      <td>United States</td>\n",
       "      <td>Consumer Discretionary</td>\n",
       "      <td>0.025312</td>\n",
       "      <td>0.0</td>\n",
       "      <td>0.000000</td>\n",
       "      <td>0.0064</td>\n",
       "      <td>0.046373</td>\n",
       "      <td>0.0</td>\n",
       "      <td>0.000000</td>\n",
       "      <td>0.000000e+00</td>\n",
       "      <td>0.0</td>\n",
       "    </tr>\n",
       "    <tr>\n",
       "      <th>3</th>\n",
       "      <td>US30303M1027</td>\n",
       "      <td>FACEBOOK</td>\n",
       "      <td>United States</td>\n",
       "      <td>Communication Services</td>\n",
       "      <td>0.013562</td>\n",
       "      <td>0.0</td>\n",
       "      <td>0.033796</td>\n",
       "      <td>0.0000</td>\n",
       "      <td>0.037275</td>\n",
       "      <td>0.0</td>\n",
       "      <td>0.000000</td>\n",
       "      <td>0.000000e+00</td>\n",
       "      <td>0.0</td>\n",
       "    </tr>\n",
       "    <tr>\n",
       "      <th>4</th>\n",
       "      <td>US02079K3059</td>\n",
       "      <td>ALPHABET A</td>\n",
       "      <td>United States</td>\n",
       "      <td>Communication Services</td>\n",
       "      <td>0.012149</td>\n",
       "      <td>0.0</td>\n",
       "      <td>0.022121</td>\n",
       "      <td>0.0000</td>\n",
       "      <td>0.028178</td>\n",
       "      <td>0.0</td>\n",
       "      <td>0.000000</td>\n",
       "      <td>0.000000e+00</td>\n",
       "      <td>0.0</td>\n",
       "    </tr>\n",
       "    <tr>\n",
       "      <th>...</th>\n",
       "      <td>...</td>\n",
       "      <td>...</td>\n",
       "      <td>...</td>\n",
       "      <td>...</td>\n",
       "      <td>...</td>\n",
       "      <td>...</td>\n",
       "      <td>...</td>\n",
       "      <td>...</td>\n",
       "      <td>...</td>\n",
       "      <td>...</td>\n",
       "      <td>...</td>\n",
       "      <td>...</td>\n",
       "      <td>...</td>\n",
       "    </tr>\n",
       "    <tr>\n",
       "      <th>5494</th>\n",
       "      <td>US23284F1057</td>\n",
       "      <td>CytomX Therapeutics Inc.</td>\n",
       "      <td>United States</td>\n",
       "      <td>Biotechnology</td>\n",
       "      <td>0.000000</td>\n",
       "      <td>0.0</td>\n",
       "      <td>0.000000</td>\n",
       "      <td>0.0000</td>\n",
       "      <td>0.000000</td>\n",
       "      <td>0.0</td>\n",
       "      <td>0.000000</td>\n",
       "      <td>2.219000e-05</td>\n",
       "      <td>0.0</td>\n",
       "    </tr>\n",
       "    <tr>\n",
       "      <th>5495</th>\n",
       "      <td>Unassigned</td>\n",
       "      <td>MEDIA GEN INC CVR ORDINARY USD</td>\n",
       "      <td>United States</td>\n",
       "      <td>Unassigned</td>\n",
       "      <td>0.000000</td>\n",
       "      <td>0.0</td>\n",
       "      <td>0.000000</td>\n",
       "      <td>0.0000</td>\n",
       "      <td>0.000000</td>\n",
       "      <td>0.0</td>\n",
       "      <td>0.000000</td>\n",
       "      <td>7.300000e-07</td>\n",
       "      <td>0.0</td>\n",
       "    </tr>\n",
       "    <tr>\n",
       "      <th>5496</th>\n",
       "      <td>Unassigned</td>\n",
       "      <td>ALDER BIOPHARMACEUTICALS INC COMMON STOC</td>\n",
       "      <td>United States</td>\n",
       "      <td>Unassigned</td>\n",
       "      <td>0.000000</td>\n",
       "      <td>0.0</td>\n",
       "      <td>0.000000</td>\n",
       "      <td>0.0000</td>\n",
       "      <td>0.000000</td>\n",
       "      <td>0.0</td>\n",
       "      <td>0.000000</td>\n",
       "      <td>2.800000e-07</td>\n",
       "      <td>0.0</td>\n",
       "    </tr>\n",
       "    <tr>\n",
       "      <th>5497</th>\n",
       "      <td>Unassigned</td>\n",
       "      <td>CME E-MINI RUSSELL 2000 IDX FU JUN 2021</td>\n",
       "      <td>United States</td>\n",
       "      <td>Unassigned</td>\n",
       "      <td>0.000000</td>\n",
       "      <td>0.0</td>\n",
       "      <td>0.000000</td>\n",
       "      <td>0.0000</td>\n",
       "      <td>0.000000</td>\n",
       "      <td>0.0</td>\n",
       "      <td>0.000000</td>\n",
       "      <td>0.000000e+00</td>\n",
       "      <td>0.0</td>\n",
       "    </tr>\n",
       "    <tr>\n",
       "      <th>5498</th>\n",
       "      <td>Unassigned</td>\n",
       "      <td>U.S. Dollar</td>\n",
       "      <td>United States</td>\n",
       "      <td>Unassigned</td>\n",
       "      <td>0.000000</td>\n",
       "      <td>0.0</td>\n",
       "      <td>0.000000</td>\n",
       "      <td>0.0000</td>\n",
       "      <td>0.000000</td>\n",
       "      <td>0.0</td>\n",
       "      <td>0.000000</td>\n",
       "      <td>0.000000e+00</td>\n",
       "      <td>0.0</td>\n",
       "    </tr>\n",
       "  </tbody>\n",
       "</table>\n",
       "<p>5499 rows × 13 columns</p>\n",
       "</div>"
      ],
      "text/plain": [
       "              ISIN                                      Name        Country  \\\n",
       "0     US0378331005                                     APPLE  United States   \n",
       "1     US5949181045                                 MICROSOFT  United States   \n",
       "2     US0231351067                                    AMAZON  United States   \n",
       "3     US30303M1027                                  FACEBOOK  United States   \n",
       "4     US02079K3059                                ALPHABET A  United States   \n",
       "...            ...                                       ...            ...   \n",
       "5494  US23284F1057                  CytomX Therapeutics Inc.  United States   \n",
       "5495    Unassigned            MEDIA GEN INC CVR ORDINARY USD  United States   \n",
       "5496    Unassigned  ALDER BIOPHARMACEUTICALS INC COMMON STOC  United States   \n",
       "5497    Unassigned   CME E-MINI RUSSELL 2000 IDX FU JUN 2021  United States   \n",
       "5498    Unassigned                               U.S. Dollar  United States   \n",
       "\n",
       "     Industry Classification  MSCI World  Value   Quality  Multi-Factor  \\\n",
       "0     Information Technology    0.039826    0.0  0.037906        0.0198   \n",
       "1     Information Technology    0.032666    0.0  0.041162        0.0115   \n",
       "2     Consumer Discretionary    0.025312    0.0  0.000000        0.0064   \n",
       "3     Communication Services    0.013562    0.0  0.033796        0.0000   \n",
       "4     Communication Services    0.012149    0.0  0.022121        0.0000   \n",
       "...                      ...         ...    ...       ...           ...   \n",
       "5494           Biotechnology    0.000000    0.0  0.000000        0.0000   \n",
       "5495              Unassigned    0.000000    0.0  0.000000        0.0000   \n",
       "5496              Unassigned    0.000000    0.0  0.000000        0.0000   \n",
       "5497              Unassigned    0.000000    0.0  0.000000        0.0000   \n",
       "5498              Unassigned    0.000000    0.0  0.000000        0.0000   \n",
       "\n",
       "      Momentum  Small-Cap  Low Volatility (World)  Small-Cap (Value)  \\\n",
       "0     0.048207        0.0                0.000000       0.000000e+00   \n",
       "1     0.052391        0.0                0.002834       0.000000e+00   \n",
       "2     0.046373        0.0                0.000000       0.000000e+00   \n",
       "3     0.037275        0.0                0.000000       0.000000e+00   \n",
       "4     0.028178        0.0                0.000000       0.000000e+00   \n",
       "...        ...        ...                     ...                ...   \n",
       "5494  0.000000        0.0                0.000000       2.219000e-05   \n",
       "5495  0.000000        0.0                0.000000       7.300000e-07   \n",
       "5496  0.000000        0.0                0.000000       2.800000e-07   \n",
       "5497  0.000000        0.0                0.000000       0.000000e+00   \n",
       "5498  0.000000        0.0                0.000000       0.000000e+00   \n",
       "\n",
       "      High-Dividend (World)  \n",
       "0                       0.0  \n",
       "1                       0.0  \n",
       "2                       0.0  \n",
       "3                       0.0  \n",
       "4                       0.0  \n",
       "...                     ...  \n",
       "5494                    0.0  \n",
       "5495                    0.0  \n",
       "5496                    0.0  \n",
       "5497                    0.0  \n",
       "5498                    0.0  \n",
       "\n",
       "[5499 rows x 13 columns]"
      ]
     },
     "metadata": {},
     "output_type": "display_data"
    }
   ],
   "source": [
    "indices = get_common_index_codes()\n",
    "data = []\n",
    "index_names = [ key for key in indices.keys()]\n",
    "spdr = None\n",
    "for key in indices:\n",
    "    print(key)\n",
    "    if(indices[key][\"vendor\"] == \"Xtrackers\"):\n",
    "        data.append(get_xtrackers(indices[key][\"ISIN\"],key))\n",
    "    if(indices[key][\"vendor\"] == \"SPDR\"):\n",
    "        data.append(get_spdr(indices[key][\"ticker\"],key))\n",
    "    if (indices[key][\"vendor\"] == \"iShares\"):\n",
    "        #print(\"Will not read \",key,\"iShares is annoying\")\n",
    "        #does not work yet, isharse names INTEL as INTEL Corp etc -.-\n",
    "        data.append(get_iShares(key,key))\n",
    "        \n",
    "\n",
    "df = data[0]\n",
    "for i in range(1,len(data)):\n",
    "    #print(data[i])\n",
    "    df = df.merge(data[i], how='outer',left_on=\"ISIN\",right_on=\"ISIN\",suffixes=('', '_DROP'))\n",
    "    df[\"Name\"].fillna(df[\"Name_DROP\"], inplace=True)\n",
    "    df[\"Country\"].fillna(df[\"Country_DROP\"], inplace=True)\n",
    "    df[\"Industry Classification\"].fillna(df[\"Industry Classification_DROP\"], inplace=True)\n",
    "    df = df.fillna(0).filter(regex='^(?!.*_DROP)')\n",
    "\n",
    "\n",
    "display(df)"
   ]
  },
  {
   "cell_type": "code",
   "execution_count": 26,
   "metadata": {},
   "outputs": [
    {
     "data": {
      "text/html": [
       "<div>\n",
       "<style scoped>\n",
       "    .dataframe tbody tr th:only-of-type {\n",
       "        vertical-align: middle;\n",
       "    }\n",
       "\n",
       "    .dataframe tbody tr th {\n",
       "        vertical-align: top;\n",
       "    }\n",
       "\n",
       "    .dataframe thead th {\n",
       "        text-align: right;\n",
       "    }\n",
       "</style>\n",
       "<table border=\"1\" class=\"dataframe\">\n",
       "  <thead>\n",
       "    <tr style=\"text-align: right;\">\n",
       "      <th></th>\n",
       "      <th>ISIN</th>\n",
       "      <th>Name</th>\n",
       "      <th>Country</th>\n",
       "      <th>Industry Classification</th>\n",
       "      <th>MSCI World</th>\n",
       "      <th>Value</th>\n",
       "      <th>Quality</th>\n",
       "      <th>Multi-Factor</th>\n",
       "      <th>Momentum</th>\n",
       "      <th>Small-Cap</th>\n",
       "      <th>Low Volatility (World)</th>\n",
       "      <th>Small-Cap (Value)</th>\n",
       "      <th>High-Dividend (World)</th>\n",
       "      <th>Small-Value-Momentum</th>\n",
       "    </tr>\n",
       "  </thead>\n",
       "  <tbody>\n",
       "    <tr>\n",
       "      <th>20</th>\n",
       "      <td>US4581401001</td>\n",
       "      <td>INTEL</td>\n",
       "      <td>United States</td>\n",
       "      <td>Information Technology</td>\n",
       "      <td>0.004939</td>\n",
       "      <td>0.051122</td>\n",
       "      <td>0.013220</td>\n",
       "      <td>0.0303</td>\n",
       "      <td>0.000000</td>\n",
       "      <td>0.0000</td>\n",
       "      <td>0.000711</td>\n",
       "      <td>0.000000</td>\n",
       "      <td>0.024382</td>\n",
       "      <td>0.020449</td>\n",
       "    </tr>\n",
       "    <tr>\n",
       "      <th>6</th>\n",
       "      <td>US88160R1014</td>\n",
       "      <td>TESLA MOTORS</td>\n",
       "      <td>United States</td>\n",
       "      <td>Consumer Discretionary</td>\n",
       "      <td>0.009322</td>\n",
       "      <td>0.000000</td>\n",
       "      <td>0.000000</td>\n",
       "      <td>0.0000</td>\n",
       "      <td>0.054489</td>\n",
       "      <td>0.0000</td>\n",
       "      <td>0.000000</td>\n",
       "      <td>0.000000</td>\n",
       "      <td>0.000000</td>\n",
       "      <td>0.010898</td>\n",
       "    </tr>\n",
       "    <tr>\n",
       "      <th>29</th>\n",
       "      <td>US00206R1023</td>\n",
       "      <td>AT&amp;T</td>\n",
       "      <td>United States</td>\n",
       "      <td>Communication Services</td>\n",
       "      <td>0.003871</td>\n",
       "      <td>0.026981</td>\n",
       "      <td>0.000000</td>\n",
       "      <td>0.0000</td>\n",
       "      <td>0.000000</td>\n",
       "      <td>0.0000</td>\n",
       "      <td>0.004318</td>\n",
       "      <td>0.000000</td>\n",
       "      <td>0.018959</td>\n",
       "      <td>0.010792</td>\n",
       "    </tr>\n",
       "    <tr>\n",
       "      <th>1</th>\n",
       "      <td>US5949181045</td>\n",
       "      <td>MICROSOFT</td>\n",
       "      <td>United States</td>\n",
       "      <td>Information Technology</td>\n",
       "      <td>0.032666</td>\n",
       "      <td>0.000000</td>\n",
       "      <td>0.041162</td>\n",
       "      <td>0.0115</td>\n",
       "      <td>0.052391</td>\n",
       "      <td>0.0000</td>\n",
       "      <td>0.002834</td>\n",
       "      <td>0.000000</td>\n",
       "      <td>0.000000</td>\n",
       "      <td>0.010478</td>\n",
       "    </tr>\n",
       "    <tr>\n",
       "      <th>95</th>\n",
       "      <td>US5951121038</td>\n",
       "      <td>MICRON TECHNOLOGY</td>\n",
       "      <td>United States</td>\n",
       "      <td>Information Technology</td>\n",
       "      <td>0.001905</td>\n",
       "      <td>0.026088</td>\n",
       "      <td>0.000000</td>\n",
       "      <td>0.0184</td>\n",
       "      <td>0.000000</td>\n",
       "      <td>0.0000</td>\n",
       "      <td>0.000000</td>\n",
       "      <td>0.000000</td>\n",
       "      <td>0.000000</td>\n",
       "      <td>0.010435</td>\n",
       "    </tr>\n",
       "    <tr>\n",
       "      <th>0</th>\n",
       "      <td>US0378331005</td>\n",
       "      <td>APPLE</td>\n",
       "      <td>United States</td>\n",
       "      <td>Information Technology</td>\n",
       "      <td>0.039826</td>\n",
       "      <td>0.000000</td>\n",
       "      <td>0.037906</td>\n",
       "      <td>0.0198</td>\n",
       "      <td>0.048207</td>\n",
       "      <td>0.0000</td>\n",
       "      <td>0.000000</td>\n",
       "      <td>0.000000</td>\n",
       "      <td>0.000000</td>\n",
       "      <td>0.009641</td>\n",
       "    </tr>\n",
       "    <tr>\n",
       "      <th>2</th>\n",
       "      <td>US0231351067</td>\n",
       "      <td>AMAZON</td>\n",
       "      <td>United States</td>\n",
       "      <td>Consumer Discretionary</td>\n",
       "      <td>0.025312</td>\n",
       "      <td>0.000000</td>\n",
       "      <td>0.000000</td>\n",
       "      <td>0.0064</td>\n",
       "      <td>0.046373</td>\n",
       "      <td>0.0000</td>\n",
       "      <td>0.000000</td>\n",
       "      <td>0.000000</td>\n",
       "      <td>0.000000</td>\n",
       "      <td>0.009275</td>\n",
       "    </tr>\n",
       "    <tr>\n",
       "      <th>80</th>\n",
       "      <td>US4592001014</td>\n",
       "      <td>IBM</td>\n",
       "      <td>United States</td>\n",
       "      <td>Information Technology</td>\n",
       "      <td>0.002144</td>\n",
       "      <td>0.020049</td>\n",
       "      <td>0.000000</td>\n",
       "      <td>0.0000</td>\n",
       "      <td>0.000000</td>\n",
       "      <td>0.0000</td>\n",
       "      <td>0.002635</td>\n",
       "      <td>0.000000</td>\n",
       "      <td>0.010689</td>\n",
       "      <td>0.008019</td>\n",
       "    </tr>\n",
       "    <tr>\n",
       "      <th>3</th>\n",
       "      <td>US30303M1027</td>\n",
       "      <td>FACEBOOK</td>\n",
       "      <td>United States</td>\n",
       "      <td>Communication Services</td>\n",
       "      <td>0.013562</td>\n",
       "      <td>0.000000</td>\n",
       "      <td>0.033796</td>\n",
       "      <td>0.0000</td>\n",
       "      <td>0.037275</td>\n",
       "      <td>0.0000</td>\n",
       "      <td>0.000000</td>\n",
       "      <td>0.000000</td>\n",
       "      <td>0.000000</td>\n",
       "      <td>0.007455</td>\n",
       "    </tr>\n",
       "    <tr>\n",
       "      <th>47</th>\n",
       "      <td>JP3633400001</td>\n",
       "      <td>TOYOTA</td>\n",
       "      <td>Japan</td>\n",
       "      <td>Consumer Discretionary</td>\n",
       "      <td>0.002913</td>\n",
       "      <td>0.018514</td>\n",
       "      <td>0.000000</td>\n",
       "      <td>0.0000</td>\n",
       "      <td>0.000000</td>\n",
       "      <td>0.0000</td>\n",
       "      <td>0.000000</td>\n",
       "      <td>0.000000</td>\n",
       "      <td>0.014492</td>\n",
       "      <td>0.007406</td>\n",
       "    </tr>\n",
       "    <tr>\n",
       "      <th>11</th>\n",
       "      <td>US67066G1040</td>\n",
       "      <td>NVIDIA</td>\n",
       "      <td>United States</td>\n",
       "      <td>Information Technology</td>\n",
       "      <td>0.006367</td>\n",
       "      <td>0.000000</td>\n",
       "      <td>0.000000</td>\n",
       "      <td>0.0155</td>\n",
       "      <td>0.033042</td>\n",
       "      <td>0.0000</td>\n",
       "      <td>0.000000</td>\n",
       "      <td>0.000000</td>\n",
       "      <td>0.000000</td>\n",
       "      <td>0.006608</td>\n",
       "    </tr>\n",
       "    <tr>\n",
       "      <th>63</th>\n",
       "      <td>JP3436100006</td>\n",
       "      <td>SOFTBANK GR.CORP.</td>\n",
       "      <td>Japan</td>\n",
       "      <td>Communication Services</td>\n",
       "      <td>0.002585</td>\n",
       "      <td>0.011913</td>\n",
       "      <td>0.000000</td>\n",
       "      <td>0.0000</td>\n",
       "      <td>0.007669</td>\n",
       "      <td>0.0000</td>\n",
       "      <td>0.000000</td>\n",
       "      <td>0.000000</td>\n",
       "      <td>0.000000</td>\n",
       "      <td>0.006299</td>\n",
       "    </tr>\n",
       "    <tr>\n",
       "      <th>115</th>\n",
       "      <td>GB0002875804</td>\n",
       "      <td>BRIT.AMER.TOBACCO</td>\n",
       "      <td>United Kingdom</td>\n",
       "      <td>Consumer Staples</td>\n",
       "      <td>0.001610</td>\n",
       "      <td>0.015394</td>\n",
       "      <td>0.000000</td>\n",
       "      <td>0.0000</td>\n",
       "      <td>0.000000</td>\n",
       "      <td>0.0000</td>\n",
       "      <td>0.000000</td>\n",
       "      <td>0.000000</td>\n",
       "      <td>0.007996</td>\n",
       "      <td>0.006158</td>\n",
       "    </tr>\n",
       "    <tr>\n",
       "      <th>37</th>\n",
       "      <td>US11135F1012</td>\n",
       "      <td>BROADCOM RG</td>\n",
       "      <td>United States</td>\n",
       "      <td>Information Technology</td>\n",
       "      <td>0.003506</td>\n",
       "      <td>0.015026</td>\n",
       "      <td>0.000000</td>\n",
       "      <td>0.0000</td>\n",
       "      <td>0.000000</td>\n",
       "      <td>0.0000</td>\n",
       "      <td>0.000000</td>\n",
       "      <td>0.000000</td>\n",
       "      <td>0.000000</td>\n",
       "      <td>0.006011</td>\n",
       "    </tr>\n",
       "    <tr>\n",
       "      <th>5</th>\n",
       "      <td>US02079K1079</td>\n",
       "      <td>ALPHABET C</td>\n",
       "      <td>United States</td>\n",
       "      <td>Communication Services</td>\n",
       "      <td>0.012146</td>\n",
       "      <td>0.000000</td>\n",
       "      <td>0.022263</td>\n",
       "      <td>0.0000</td>\n",
       "      <td>0.028370</td>\n",
       "      <td>0.0000</td>\n",
       "      <td>0.000000</td>\n",
       "      <td>0.000000</td>\n",
       "      <td>0.000000</td>\n",
       "      <td>0.005674</td>\n",
       "    </tr>\n",
       "    <tr>\n",
       "      <th>4</th>\n",
       "      <td>US02079K3059</td>\n",
       "      <td>ALPHABET A</td>\n",
       "      <td>United States</td>\n",
       "      <td>Communication Services</td>\n",
       "      <td>0.012149</td>\n",
       "      <td>0.000000</td>\n",
       "      <td>0.022121</td>\n",
       "      <td>0.0000</td>\n",
       "      <td>0.028178</td>\n",
       "      <td>0.0000</td>\n",
       "      <td>0.000000</td>\n",
       "      <td>0.000000</td>\n",
       "      <td>0.000000</td>\n",
       "      <td>0.005636</td>\n",
       "    </tr>\n",
       "    <tr>\n",
       "      <th>261</th>\n",
       "      <td>JP3788600009</td>\n",
       "      <td>HITACHI</td>\n",
       "      <td>Japan</td>\n",
       "      <td>Information Technology</td>\n",
       "      <td>0.000814</td>\n",
       "      <td>0.012793</td>\n",
       "      <td>0.000000</td>\n",
       "      <td>0.0029</td>\n",
       "      <td>0.000000</td>\n",
       "      <td>0.0000</td>\n",
       "      <td>0.000000</td>\n",
       "      <td>0.000000</td>\n",
       "      <td>0.003938</td>\n",
       "      <td>0.005117</td>\n",
       "    </tr>\n",
       "    <tr>\n",
       "      <th>28</th>\n",
       "      <td>US17275R1023</td>\n",
       "      <td>CISCO</td>\n",
       "      <td>United States</td>\n",
       "      <td>Information Technology</td>\n",
       "      <td>0.003939</td>\n",
       "      <td>0.012676</td>\n",
       "      <td>0.010475</td>\n",
       "      <td>0.0000</td>\n",
       "      <td>0.000000</td>\n",
       "      <td>0.0000</td>\n",
       "      <td>0.006067</td>\n",
       "      <td>0.000000</td>\n",
       "      <td>0.019460</td>\n",
       "      <td>0.005070</td>\n",
       "    </tr>\n",
       "    <tr>\n",
       "      <th>34</th>\n",
       "      <td>US7170811035</td>\n",
       "      <td>PFIZER</td>\n",
       "      <td>United States</td>\n",
       "      <td>Health Care</td>\n",
       "      <td>0.003571</td>\n",
       "      <td>0.011898</td>\n",
       "      <td>0.008928</td>\n",
       "      <td>0.0000</td>\n",
       "      <td>0.000000</td>\n",
       "      <td>0.0000</td>\n",
       "      <td>0.003896</td>\n",
       "      <td>0.000000</td>\n",
       "      <td>0.017725</td>\n",
       "      <td>0.004759</td>\n",
       "    </tr>\n",
       "    <tr>\n",
       "      <th>42</th>\n",
       "      <td>US00287Y1091</td>\n",
       "      <td>ABBVIE</td>\n",
       "      <td>United States</td>\n",
       "      <td>Health Care</td>\n",
       "      <td>0.003352</td>\n",
       "      <td>0.011816</td>\n",
       "      <td>0.014569</td>\n",
       "      <td>0.0000</td>\n",
       "      <td>0.000000</td>\n",
       "      <td>0.0000</td>\n",
       "      <td>0.000000</td>\n",
       "      <td>0.000000</td>\n",
       "      <td>0.016626</td>\n",
       "      <td>0.004727</td>\n",
       "    </tr>\n",
       "    <tr>\n",
       "      <th>19</th>\n",
       "      <td>US70450Y1038</td>\n",
       "      <td>PAYPAL</td>\n",
       "      <td>United States</td>\n",
       "      <td>Information Technology</td>\n",
       "      <td>0.005308</td>\n",
       "      <td>0.000000</td>\n",
       "      <td>0.000000</td>\n",
       "      <td>0.0000</td>\n",
       "      <td>0.023245</td>\n",
       "      <td>0.0000</td>\n",
       "      <td>0.000000</td>\n",
       "      <td>0.000000</td>\n",
       "      <td>0.000000</td>\n",
       "      <td>0.004649</td>\n",
       "    </tr>\n",
       "    <tr>\n",
       "      <th>138</th>\n",
       "      <td>US37045V1008</td>\n",
       "      <td>GENERAL MOTORS</td>\n",
       "      <td>United States</td>\n",
       "      <td>Consumer Discretionary</td>\n",
       "      <td>0.001396</td>\n",
       "      <td>0.010759</td>\n",
       "      <td>0.000000</td>\n",
       "      <td>0.0000</td>\n",
       "      <td>0.000000</td>\n",
       "      <td>0.0000</td>\n",
       "      <td>0.000000</td>\n",
       "      <td>0.000000</td>\n",
       "      <td>0.000000</td>\n",
       "      <td>0.004304</td>\n",
       "    </tr>\n",
       "    <tr>\n",
       "      <th>55</th>\n",
       "      <td>US1729674242</td>\n",
       "      <td>CITIGROUP</td>\n",
       "      <td>United States</td>\n",
       "      <td>Financials</td>\n",
       "      <td>0.002741</td>\n",
       "      <td>0.010515</td>\n",
       "      <td>0.000000</td>\n",
       "      <td>0.0000</td>\n",
       "      <td>0.000000</td>\n",
       "      <td>0.0000</td>\n",
       "      <td>0.000000</td>\n",
       "      <td>0.000000</td>\n",
       "      <td>0.000000</td>\n",
       "      <td>0.004206</td>\n",
       "    </tr>\n",
       "    <tr>\n",
       "      <th>109</th>\n",
       "      <td>US1266501006</td>\n",
       "      <td>CVS HEALTH</td>\n",
       "      <td>United States</td>\n",
       "      <td>Health Care</td>\n",
       "      <td>0.001716</td>\n",
       "      <td>0.010438</td>\n",
       "      <td>0.000000</td>\n",
       "      <td>0.0000</td>\n",
       "      <td>0.000000</td>\n",
       "      <td>0.0000</td>\n",
       "      <td>0.000000</td>\n",
       "      <td>0.000000</td>\n",
       "      <td>0.008567</td>\n",
       "      <td>0.004175</td>\n",
       "    </tr>\n",
       "    <tr>\n",
       "      <th>2002</th>\n",
       "      <td>US36467W1099</td>\n",
       "      <td>GAMESTOP CORP CLASS A</td>\n",
       "      <td>United States</td>\n",
       "      <td>Consumer Discretionary</td>\n",
       "      <td>0.000000</td>\n",
       "      <td>0.000000</td>\n",
       "      <td>0.000000</td>\n",
       "      <td>0.0000</td>\n",
       "      <td>0.000000</td>\n",
       "      <td>0.0014</td>\n",
       "      <td>0.000000</td>\n",
       "      <td>0.010207</td>\n",
       "      <td>0.000000</td>\n",
       "      <td>0.004083</td>\n",
       "    </tr>\n",
       "    <tr>\n",
       "      <th>289</th>\n",
       "      <td>JP3143600009</td>\n",
       "      <td>ITOCHU CORP</td>\n",
       "      <td>Japan</td>\n",
       "      <td>Industrials</td>\n",
       "      <td>0.000747</td>\n",
       "      <td>0.009142</td>\n",
       "      <td>0.000000</td>\n",
       "      <td>0.0000</td>\n",
       "      <td>0.001670</td>\n",
       "      <td>0.0000</td>\n",
       "      <td>0.000000</td>\n",
       "      <td>0.000000</td>\n",
       "      <td>0.003860</td>\n",
       "      <td>0.003991</td>\n",
       "    </tr>\n",
       "    <tr>\n",
       "      <th>140</th>\n",
       "      <td>DE0007100000</td>\n",
       "      <td>DAIMLER</td>\n",
       "      <td>Germany</td>\n",
       "      <td>Consumer Discretionary</td>\n",
       "      <td>0.001372</td>\n",
       "      <td>0.009532</td>\n",
       "      <td>0.000000</td>\n",
       "      <td>0.0000</td>\n",
       "      <td>0.000000</td>\n",
       "      <td>0.0000</td>\n",
       "      <td>0.000000</td>\n",
       "      <td>0.000000</td>\n",
       "      <td>0.000000</td>\n",
       "      <td>0.003813</td>\n",
       "    </tr>\n",
       "    <tr>\n",
       "      <th>205</th>\n",
       "      <td>DE0007664039</td>\n",
       "      <td>VOLKSWAGEN VZ.</td>\n",
       "      <td>Germany</td>\n",
       "      <td>Consumer Discretionary</td>\n",
       "      <td>0.001008</td>\n",
       "      <td>0.009351</td>\n",
       "      <td>0.000000</td>\n",
       "      <td>0.0000</td>\n",
       "      <td>0.000000</td>\n",
       "      <td>0.0000</td>\n",
       "      <td>0.000000</td>\n",
       "      <td>0.000000</td>\n",
       "      <td>0.000000</td>\n",
       "      <td>0.003740</td>\n",
       "    </tr>\n",
       "    <tr>\n",
       "      <th>65</th>\n",
       "      <td>US1101221083</td>\n",
       "      <td>BRISTOL MYERS SQUIB</td>\n",
       "      <td>United States</td>\n",
       "      <td>Health Care</td>\n",
       "      <td>0.002506</td>\n",
       "      <td>0.008912</td>\n",
       "      <td>0.000000</td>\n",
       "      <td>0.0000</td>\n",
       "      <td>0.000000</td>\n",
       "      <td>0.0000</td>\n",
       "      <td>0.001317</td>\n",
       "      <td>0.000000</td>\n",
       "      <td>0.012418</td>\n",
       "      <td>0.003565</td>\n",
       "    </tr>\n",
       "    <tr>\n",
       "      <th>262</th>\n",
       "      <td>US40434L1052</td>\n",
       "      <td>HEWLETT-PACKARD</td>\n",
       "      <td>United States</td>\n",
       "      <td>Information Technology</td>\n",
       "      <td>0.000806</td>\n",
       "      <td>0.008559</td>\n",
       "      <td>0.000000</td>\n",
       "      <td>0.0082</td>\n",
       "      <td>0.000000</td>\n",
       "      <td>0.0000</td>\n",
       "      <td>0.000000</td>\n",
       "      <td>0.000000</td>\n",
       "      <td>0.003935</td>\n",
       "      <td>0.003424</td>\n",
       "    </tr>\n",
       "    <tr>\n",
       "      <th>357</th>\n",
       "      <td>JP3898400001</td>\n",
       "      <td>MITSUBISHI</td>\n",
       "      <td>Japan</td>\n",
       "      <td>Industrials</td>\n",
       "      <td>0.000637</td>\n",
       "      <td>0.008499</td>\n",
       "      <td>0.000000</td>\n",
       "      <td>0.0000</td>\n",
       "      <td>0.000000</td>\n",
       "      <td>0.0000</td>\n",
       "      <td>0.000000</td>\n",
       "      <td>0.000000</td>\n",
       "      <td>0.000000</td>\n",
       "      <td>0.003400</td>\n",
       "    </tr>\n",
       "    <tr>\n",
       "      <th>121</th>\n",
       "      <td>US1255231003</td>\n",
       "      <td>CIGNA</td>\n",
       "      <td>United States</td>\n",
       "      <td>Health Care</td>\n",
       "      <td>0.001549</td>\n",
       "      <td>0.008325</td>\n",
       "      <td>0.000000</td>\n",
       "      <td>0.0000</td>\n",
       "      <td>0.000000</td>\n",
       "      <td>0.0000</td>\n",
       "      <td>0.000000</td>\n",
       "      <td>0.000000</td>\n",
       "      <td>0.000000</td>\n",
       "      <td>0.003330</td>\n",
       "    </tr>\n",
       "    <tr>\n",
       "      <th>331</th>\n",
       "      <td>NL00150001Q9</td>\n",
       "      <td>STELLANTIS BR RG</td>\n",
       "      <td>United Kingdom</td>\n",
       "      <td>Consumer Discretionary</td>\n",
       "      <td>0.000674</td>\n",
       "      <td>0.008315</td>\n",
       "      <td>0.000000</td>\n",
       "      <td>0.0066</td>\n",
       "      <td>0.000000</td>\n",
       "      <td>0.0000</td>\n",
       "      <td>0.000000</td>\n",
       "      <td>0.000000</td>\n",
       "      <td>0.000000</td>\n",
       "      <td>0.003326</td>\n",
       "    </tr>\n",
       "    <tr>\n",
       "      <th>332</th>\n",
       "      <td>NL00150001Q9</td>\n",
       "      <td>STELLANTIS BR RG</td>\n",
       "      <td>United Kingdom</td>\n",
       "      <td>Consumer Discretionary</td>\n",
       "      <td>0.000674</td>\n",
       "      <td>0.008315</td>\n",
       "      <td>0.000000</td>\n",
       "      <td>0.0001</td>\n",
       "      <td>0.000000</td>\n",
       "      <td>0.0000</td>\n",
       "      <td>0.000000</td>\n",
       "      <td>0.000000</td>\n",
       "      <td>0.000000</td>\n",
       "      <td>0.003326</td>\n",
       "    </tr>\n",
       "    <tr>\n",
       "      <th>370</th>\n",
       "      <td>JP3893600001</td>\n",
       "      <td>MITSUI &amp; CO</td>\n",
       "      <td>Japan</td>\n",
       "      <td>Industrials</td>\n",
       "      <td>0.000613</td>\n",
       "      <td>0.008171</td>\n",
       "      <td>0.000000</td>\n",
       "      <td>0.0000</td>\n",
       "      <td>0.000000</td>\n",
       "      <td>0.0000</td>\n",
       "      <td>0.000000</td>\n",
       "      <td>0.000000</td>\n",
       "      <td>0.000000</td>\n",
       "      <td>0.003268</td>\n",
       "    </tr>\n",
       "    <tr>\n",
       "      <th>2013</th>\n",
       "      <td>US5002551043</td>\n",
       "      <td>KOHLS CORP</td>\n",
       "      <td>United States</td>\n",
       "      <td>Consumer Discretionary</td>\n",
       "      <td>0.000000</td>\n",
       "      <td>0.000000</td>\n",
       "      <td>0.000000</td>\n",
       "      <td>0.0000</td>\n",
       "      <td>0.000000</td>\n",
       "      <td>0.0012</td>\n",
       "      <td>0.000000</td>\n",
       "      <td>0.008161</td>\n",
       "      <td>0.000000</td>\n",
       "      <td>0.003265</td>\n",
       "    </tr>\n",
       "    <tr>\n",
       "      <th>24</th>\n",
       "      <td>US00724F1012</td>\n",
       "      <td>ADOBE</td>\n",
       "      <td>United States</td>\n",
       "      <td>Information Technology</td>\n",
       "      <td>0.004318</td>\n",
       "      <td>0.000000</td>\n",
       "      <td>0.011571</td>\n",
       "      <td>0.0000</td>\n",
       "      <td>0.016126</td>\n",
       "      <td>0.0000</td>\n",
       "      <td>0.008340</td>\n",
       "      <td>0.000000</td>\n",
       "      <td>0.000000</td>\n",
       "      <td>0.003225</td>\n",
       "    </tr>\n",
       "    <tr>\n",
       "      <th>87</th>\n",
       "      <td>FR0000120578</td>\n",
       "      <td>SANOFI</td>\n",
       "      <td>France</td>\n",
       "      <td>Health Care</td>\n",
       "      <td>0.002033</td>\n",
       "      <td>0.008013</td>\n",
       "      <td>0.000000</td>\n",
       "      <td>0.0000</td>\n",
       "      <td>0.000000</td>\n",
       "      <td>0.0000</td>\n",
       "      <td>0.000000</td>\n",
       "      <td>0.000000</td>\n",
       "      <td>0.010142</td>\n",
       "      <td>0.003205</td>\n",
       "    </tr>\n",
       "    <tr>\n",
       "      <th>110</th>\n",
       "      <td>US02209S1033</td>\n",
       "      <td>ALTRIA</td>\n",
       "      <td>United States</td>\n",
       "      <td>Consumer Staples</td>\n",
       "      <td>0.001695</td>\n",
       "      <td>0.007615</td>\n",
       "      <td>0.000000</td>\n",
       "      <td>0.0000</td>\n",
       "      <td>0.000000</td>\n",
       "      <td>0.0000</td>\n",
       "      <td>0.000000</td>\n",
       "      <td>0.000000</td>\n",
       "      <td>0.008489</td>\n",
       "      <td>0.003046</td>\n",
       "    </tr>\n",
       "    <tr>\n",
       "      <th>155</th>\n",
       "      <td>FR0000131104</td>\n",
       "      <td>BNP PARIBAS</td>\n",
       "      <td>France</td>\n",
       "      <td>Financials</td>\n",
       "      <td>0.001273</td>\n",
       "      <td>0.007529</td>\n",
       "      <td>0.000000</td>\n",
       "      <td>0.0000</td>\n",
       "      <td>0.000000</td>\n",
       "      <td>0.0000</td>\n",
       "      <td>0.000000</td>\n",
       "      <td>0.000000</td>\n",
       "      <td>0.000000</td>\n",
       "      <td>0.003012</td>\n",
       "    </tr>\n",
       "    <tr>\n",
       "      <th>41</th>\n",
       "      <td>US8835561023</td>\n",
       "      <td>THERMO FISHER SCIENTIFIC</td>\n",
       "      <td>United States</td>\n",
       "      <td>Health Care</td>\n",
       "      <td>0.003368</td>\n",
       "      <td>0.000000</td>\n",
       "      <td>0.000000</td>\n",
       "      <td>0.0000</td>\n",
       "      <td>0.014947</td>\n",
       "      <td>0.0000</td>\n",
       "      <td>0.000000</td>\n",
       "      <td>0.000000</td>\n",
       "      <td>0.000000</td>\n",
       "      <td>0.002989</td>\n",
       "    </tr>\n",
       "    <tr>\n",
       "      <th>244</th>\n",
       "      <td>JP3854600008</td>\n",
       "      <td>HONDA</td>\n",
       "      <td>Japan</td>\n",
       "      <td>Consumer Discretionary</td>\n",
       "      <td>0.000868</td>\n",
       "      <td>0.007428</td>\n",
       "      <td>0.000000</td>\n",
       "      <td>0.0000</td>\n",
       "      <td>0.000000</td>\n",
       "      <td>0.0000</td>\n",
       "      <td>0.000000</td>\n",
       "      <td>0.000000</td>\n",
       "      <td>0.000000</td>\n",
       "      <td>0.002971</td>\n",
       "    </tr>\n",
       "    <tr>\n",
       "      <th>233</th>\n",
       "      <td>GB00BH4HKS39</td>\n",
       "      <td>VODAFONE</td>\n",
       "      <td>United Kingdom</td>\n",
       "      <td>Communication Services</td>\n",
       "      <td>0.000911</td>\n",
       "      <td>0.007404</td>\n",
       "      <td>0.000000</td>\n",
       "      <td>0.0000</td>\n",
       "      <td>0.000000</td>\n",
       "      <td>0.0000</td>\n",
       "      <td>0.000742</td>\n",
       "      <td>0.000000</td>\n",
       "      <td>0.000000</td>\n",
       "      <td>0.002962</td>\n",
       "    </tr>\n",
       "    <tr>\n",
       "      <th>181</th>\n",
       "      <td>DE000BAY0017</td>\n",
       "      <td>BAYER</td>\n",
       "      <td>Germany</td>\n",
       "      <td>Health Care</td>\n",
       "      <td>0.001128</td>\n",
       "      <td>0.007291</td>\n",
       "      <td>0.000000</td>\n",
       "      <td>0.0000</td>\n",
       "      <td>0.000000</td>\n",
       "      <td>0.0000</td>\n",
       "      <td>0.000000</td>\n",
       "      <td>0.000000</td>\n",
       "      <td>0.005534</td>\n",
       "      <td>0.002916</td>\n",
       "    </tr>\n",
       "    <tr>\n",
       "      <th>174</th>\n",
       "      <td>JP3902900004</td>\n",
       "      <td>MITSUBISHI TOKYO FINL.</td>\n",
       "      <td>Japan</td>\n",
       "      <td>Financials</td>\n",
       "      <td>0.001151</td>\n",
       "      <td>0.007280</td>\n",
       "      <td>0.000000</td>\n",
       "      <td>0.0000</td>\n",
       "      <td>0.000000</td>\n",
       "      <td>0.0000</td>\n",
       "      <td>0.000000</td>\n",
       "      <td>0.000000</td>\n",
       "      <td>0.000000</td>\n",
       "      <td>0.002912</td>\n",
       "    </tr>\n",
       "    <tr>\n",
       "      <th>3108</th>\n",
       "      <td>US55616P1049</td>\n",
       "      <td>MACYS INC</td>\n",
       "      <td>United States</td>\n",
       "      <td>Consumer Discretionary</td>\n",
       "      <td>0.000000</td>\n",
       "      <td>0.000000</td>\n",
       "      <td>0.000000</td>\n",
       "      <td>0.0000</td>\n",
       "      <td>0.000000</td>\n",
       "      <td>0.0003</td>\n",
       "      <td>0.000000</td>\n",
       "      <td>0.007086</td>\n",
       "      <td>0.000000</td>\n",
       "      <td>0.002834</td>\n",
       "    </tr>\n",
       "    <tr>\n",
       "      <th>472</th>\n",
       "      <td>FR0010208488</td>\n",
       "      <td>ENGIE</td>\n",
       "      <td>France</td>\n",
       "      <td>Utilities</td>\n",
       "      <td>0.000484</td>\n",
       "      <td>0.006954</td>\n",
       "      <td>0.000000</td>\n",
       "      <td>0.0000</td>\n",
       "      <td>0.000000</td>\n",
       "      <td>0.0000</td>\n",
       "      <td>0.000000</td>\n",
       "      <td>0.000000</td>\n",
       "      <td>0.000000</td>\n",
       "      <td>0.002782</td>\n",
       "    </tr>\n",
       "    <tr>\n",
       "      <th>2038</th>\n",
       "      <td>US5658491064</td>\n",
       "      <td>MARATHON OIL CORP</td>\n",
       "      <td>United States</td>\n",
       "      <td>Energy</td>\n",
       "      <td>0.000000</td>\n",
       "      <td>0.000000</td>\n",
       "      <td>0.000000</td>\n",
       "      <td>0.0000</td>\n",
       "      <td>0.000000</td>\n",
       "      <td>0.0011</td>\n",
       "      <td>0.000000</td>\n",
       "      <td>0.006571</td>\n",
       "      <td>0.000000</td>\n",
       "      <td>0.002628</td>\n",
       "    </tr>\n",
       "    <tr>\n",
       "      <th>2042</th>\n",
       "      <td>US23355L1061</td>\n",
       "      <td>DXC TECHNOLOGY</td>\n",
       "      <td>United States</td>\n",
       "      <td>Information Technology</td>\n",
       "      <td>0.000000</td>\n",
       "      <td>0.000000</td>\n",
       "      <td>0.000000</td>\n",
       "      <td>0.0000</td>\n",
       "      <td>0.000000</td>\n",
       "      <td>0.0011</td>\n",
       "      <td>0.000000</td>\n",
       "      <td>0.006497</td>\n",
       "      <td>0.000000</td>\n",
       "      <td>0.002599</td>\n",
       "    </tr>\n",
       "    <tr>\n",
       "      <th>130</th>\n",
       "      <td>US3755581036</td>\n",
       "      <td>GILEAD SCIENCES</td>\n",
       "      <td>United States</td>\n",
       "      <td>Health Care</td>\n",
       "      <td>0.001462</td>\n",
       "      <td>0.006357</td>\n",
       "      <td>0.000000</td>\n",
       "      <td>0.0000</td>\n",
       "      <td>0.000000</td>\n",
       "      <td>0.0000</td>\n",
       "      <td>0.010152</td>\n",
       "      <td>0.000000</td>\n",
       "      <td>0.007231</td>\n",
       "      <td>0.002543</td>\n",
       "    </tr>\n",
       "  </tbody>\n",
       "</table>\n",
       "</div>"
      ],
      "text/plain": [
       "              ISIN                      Name         Country  \\\n",
       "20    US4581401001                     INTEL   United States   \n",
       "6     US88160R1014              TESLA MOTORS   United States   \n",
       "29    US00206R1023                      AT&T   United States   \n",
       "1     US5949181045                 MICROSOFT   United States   \n",
       "95    US5951121038         MICRON TECHNOLOGY   United States   \n",
       "0     US0378331005                     APPLE   United States   \n",
       "2     US0231351067                    AMAZON   United States   \n",
       "80    US4592001014                       IBM   United States   \n",
       "3     US30303M1027                  FACEBOOK   United States   \n",
       "47    JP3633400001                    TOYOTA           Japan   \n",
       "11    US67066G1040                    NVIDIA   United States   \n",
       "63    JP3436100006         SOFTBANK GR.CORP.           Japan   \n",
       "115   GB0002875804         BRIT.AMER.TOBACCO  United Kingdom   \n",
       "37    US11135F1012               BROADCOM RG   United States   \n",
       "5     US02079K1079                ALPHABET C   United States   \n",
       "4     US02079K3059                ALPHABET A   United States   \n",
       "261   JP3788600009                   HITACHI           Japan   \n",
       "28    US17275R1023                     CISCO   United States   \n",
       "34    US7170811035                    PFIZER   United States   \n",
       "42    US00287Y1091                    ABBVIE   United States   \n",
       "19    US70450Y1038                    PAYPAL   United States   \n",
       "138   US37045V1008            GENERAL MOTORS   United States   \n",
       "55    US1729674242                 CITIGROUP   United States   \n",
       "109   US1266501006                CVS HEALTH   United States   \n",
       "2002  US36467W1099     GAMESTOP CORP CLASS A   United States   \n",
       "289   JP3143600009               ITOCHU CORP           Japan   \n",
       "140   DE0007100000                   DAIMLER         Germany   \n",
       "205   DE0007664039            VOLKSWAGEN VZ.         Germany   \n",
       "65    US1101221083       BRISTOL MYERS SQUIB   United States   \n",
       "262   US40434L1052           HEWLETT-PACKARD   United States   \n",
       "357   JP3898400001                MITSUBISHI           Japan   \n",
       "121   US1255231003                     CIGNA   United States   \n",
       "331   NL00150001Q9          STELLANTIS BR RG  United Kingdom   \n",
       "332   NL00150001Q9          STELLANTIS BR RG  United Kingdom   \n",
       "370   JP3893600001               MITSUI & CO           Japan   \n",
       "2013  US5002551043                KOHLS CORP   United States   \n",
       "24    US00724F1012                     ADOBE   United States   \n",
       "87    FR0000120578                    SANOFI          France   \n",
       "110   US02209S1033                    ALTRIA   United States   \n",
       "155   FR0000131104               BNP PARIBAS          France   \n",
       "41    US8835561023  THERMO FISHER SCIENTIFIC   United States   \n",
       "244   JP3854600008                     HONDA           Japan   \n",
       "233   GB00BH4HKS39                  VODAFONE  United Kingdom   \n",
       "181   DE000BAY0017                     BAYER         Germany   \n",
       "174   JP3902900004    MITSUBISHI TOKYO FINL.           Japan   \n",
       "3108  US55616P1049                 MACYS INC   United States   \n",
       "472   FR0010208488                     ENGIE          France   \n",
       "2038  US5658491064         MARATHON OIL CORP   United States   \n",
       "2042  US23355L1061            DXC TECHNOLOGY   United States   \n",
       "130   US3755581036           GILEAD SCIENCES   United States   \n",
       "\n",
       "     Industry Classification  MSCI World     Value   Quality  Multi-Factor  \\\n",
       "20    Information Technology    0.004939  0.051122  0.013220        0.0303   \n",
       "6     Consumer Discretionary    0.009322  0.000000  0.000000        0.0000   \n",
       "29    Communication Services    0.003871  0.026981  0.000000        0.0000   \n",
       "1     Information Technology    0.032666  0.000000  0.041162        0.0115   \n",
       "95    Information Technology    0.001905  0.026088  0.000000        0.0184   \n",
       "0     Information Technology    0.039826  0.000000  0.037906        0.0198   \n",
       "2     Consumer Discretionary    0.025312  0.000000  0.000000        0.0064   \n",
       "80    Information Technology    0.002144  0.020049  0.000000        0.0000   \n",
       "3     Communication Services    0.013562  0.000000  0.033796        0.0000   \n",
       "47    Consumer Discretionary    0.002913  0.018514  0.000000        0.0000   \n",
       "11    Information Technology    0.006367  0.000000  0.000000        0.0155   \n",
       "63    Communication Services    0.002585  0.011913  0.000000        0.0000   \n",
       "115         Consumer Staples    0.001610  0.015394  0.000000        0.0000   \n",
       "37    Information Technology    0.003506  0.015026  0.000000        0.0000   \n",
       "5     Communication Services    0.012146  0.000000  0.022263        0.0000   \n",
       "4     Communication Services    0.012149  0.000000  0.022121        0.0000   \n",
       "261   Information Technology    0.000814  0.012793  0.000000        0.0029   \n",
       "28    Information Technology    0.003939  0.012676  0.010475        0.0000   \n",
       "34               Health Care    0.003571  0.011898  0.008928        0.0000   \n",
       "42               Health Care    0.003352  0.011816  0.014569        0.0000   \n",
       "19    Information Technology    0.005308  0.000000  0.000000        0.0000   \n",
       "138   Consumer Discretionary    0.001396  0.010759  0.000000        0.0000   \n",
       "55                Financials    0.002741  0.010515  0.000000        0.0000   \n",
       "109              Health Care    0.001716  0.010438  0.000000        0.0000   \n",
       "2002  Consumer Discretionary    0.000000  0.000000  0.000000        0.0000   \n",
       "289              Industrials    0.000747  0.009142  0.000000        0.0000   \n",
       "140   Consumer Discretionary    0.001372  0.009532  0.000000        0.0000   \n",
       "205   Consumer Discretionary    0.001008  0.009351  0.000000        0.0000   \n",
       "65               Health Care    0.002506  0.008912  0.000000        0.0000   \n",
       "262   Information Technology    0.000806  0.008559  0.000000        0.0082   \n",
       "357              Industrials    0.000637  0.008499  0.000000        0.0000   \n",
       "121              Health Care    0.001549  0.008325  0.000000        0.0000   \n",
       "331   Consumer Discretionary    0.000674  0.008315  0.000000        0.0066   \n",
       "332   Consumer Discretionary    0.000674  0.008315  0.000000        0.0001   \n",
       "370              Industrials    0.000613  0.008171  0.000000        0.0000   \n",
       "2013  Consumer Discretionary    0.000000  0.000000  0.000000        0.0000   \n",
       "24    Information Technology    0.004318  0.000000  0.011571        0.0000   \n",
       "87               Health Care    0.002033  0.008013  0.000000        0.0000   \n",
       "110         Consumer Staples    0.001695  0.007615  0.000000        0.0000   \n",
       "155               Financials    0.001273  0.007529  0.000000        0.0000   \n",
       "41               Health Care    0.003368  0.000000  0.000000        0.0000   \n",
       "244   Consumer Discretionary    0.000868  0.007428  0.000000        0.0000   \n",
       "233   Communication Services    0.000911  0.007404  0.000000        0.0000   \n",
       "181              Health Care    0.001128  0.007291  0.000000        0.0000   \n",
       "174               Financials    0.001151  0.007280  0.000000        0.0000   \n",
       "3108  Consumer Discretionary    0.000000  0.000000  0.000000        0.0000   \n",
       "472                Utilities    0.000484  0.006954  0.000000        0.0000   \n",
       "2038                  Energy    0.000000  0.000000  0.000000        0.0000   \n",
       "2042  Information Technology    0.000000  0.000000  0.000000        0.0000   \n",
       "130              Health Care    0.001462  0.006357  0.000000        0.0000   \n",
       "\n",
       "      Momentum  Small-Cap  Low Volatility (World)  Small-Cap (Value)  \\\n",
       "20    0.000000     0.0000                0.000711           0.000000   \n",
       "6     0.054489     0.0000                0.000000           0.000000   \n",
       "29    0.000000     0.0000                0.004318           0.000000   \n",
       "1     0.052391     0.0000                0.002834           0.000000   \n",
       "95    0.000000     0.0000                0.000000           0.000000   \n",
       "0     0.048207     0.0000                0.000000           0.000000   \n",
       "2     0.046373     0.0000                0.000000           0.000000   \n",
       "80    0.000000     0.0000                0.002635           0.000000   \n",
       "3     0.037275     0.0000                0.000000           0.000000   \n",
       "47    0.000000     0.0000                0.000000           0.000000   \n",
       "11    0.033042     0.0000                0.000000           0.000000   \n",
       "63    0.007669     0.0000                0.000000           0.000000   \n",
       "115   0.000000     0.0000                0.000000           0.000000   \n",
       "37    0.000000     0.0000                0.000000           0.000000   \n",
       "5     0.028370     0.0000                0.000000           0.000000   \n",
       "4     0.028178     0.0000                0.000000           0.000000   \n",
       "261   0.000000     0.0000                0.000000           0.000000   \n",
       "28    0.000000     0.0000                0.006067           0.000000   \n",
       "34    0.000000     0.0000                0.003896           0.000000   \n",
       "42    0.000000     0.0000                0.000000           0.000000   \n",
       "19    0.023245     0.0000                0.000000           0.000000   \n",
       "138   0.000000     0.0000                0.000000           0.000000   \n",
       "55    0.000000     0.0000                0.000000           0.000000   \n",
       "109   0.000000     0.0000                0.000000           0.000000   \n",
       "2002  0.000000     0.0014                0.000000           0.010207   \n",
       "289   0.001670     0.0000                0.000000           0.000000   \n",
       "140   0.000000     0.0000                0.000000           0.000000   \n",
       "205   0.000000     0.0000                0.000000           0.000000   \n",
       "65    0.000000     0.0000                0.001317           0.000000   \n",
       "262   0.000000     0.0000                0.000000           0.000000   \n",
       "357   0.000000     0.0000                0.000000           0.000000   \n",
       "121   0.000000     0.0000                0.000000           0.000000   \n",
       "331   0.000000     0.0000                0.000000           0.000000   \n",
       "332   0.000000     0.0000                0.000000           0.000000   \n",
       "370   0.000000     0.0000                0.000000           0.000000   \n",
       "2013  0.000000     0.0012                0.000000           0.008161   \n",
       "24    0.016126     0.0000                0.008340           0.000000   \n",
       "87    0.000000     0.0000                0.000000           0.000000   \n",
       "110   0.000000     0.0000                0.000000           0.000000   \n",
       "155   0.000000     0.0000                0.000000           0.000000   \n",
       "41    0.014947     0.0000                0.000000           0.000000   \n",
       "244   0.000000     0.0000                0.000000           0.000000   \n",
       "233   0.000000     0.0000                0.000742           0.000000   \n",
       "181   0.000000     0.0000                0.000000           0.000000   \n",
       "174   0.000000     0.0000                0.000000           0.000000   \n",
       "3108  0.000000     0.0003                0.000000           0.007086   \n",
       "472   0.000000     0.0000                0.000000           0.000000   \n",
       "2038  0.000000     0.0011                0.000000           0.006571   \n",
       "2042  0.000000     0.0011                0.000000           0.006497   \n",
       "130   0.000000     0.0000                0.010152           0.000000   \n",
       "\n",
       "      High-Dividend (World)  Small-Value-Momentum  \n",
       "20                 0.024382              0.020449  \n",
       "6                  0.000000              0.010898  \n",
       "29                 0.018959              0.010792  \n",
       "1                  0.000000              0.010478  \n",
       "95                 0.000000              0.010435  \n",
       "0                  0.000000              0.009641  \n",
       "2                  0.000000              0.009275  \n",
       "80                 0.010689              0.008019  \n",
       "3                  0.000000              0.007455  \n",
       "47                 0.014492              0.007406  \n",
       "11                 0.000000              0.006608  \n",
       "63                 0.000000              0.006299  \n",
       "115                0.007996              0.006158  \n",
       "37                 0.000000              0.006011  \n",
       "5                  0.000000              0.005674  \n",
       "4                  0.000000              0.005636  \n",
       "261                0.003938              0.005117  \n",
       "28                 0.019460              0.005070  \n",
       "34                 0.017725              0.004759  \n",
       "42                 0.016626              0.004727  \n",
       "19                 0.000000              0.004649  \n",
       "138                0.000000              0.004304  \n",
       "55                 0.000000              0.004206  \n",
       "109                0.008567              0.004175  \n",
       "2002               0.000000              0.004083  \n",
       "289                0.003860              0.003991  \n",
       "140                0.000000              0.003813  \n",
       "205                0.000000              0.003740  \n",
       "65                 0.012418              0.003565  \n",
       "262                0.003935              0.003424  \n",
       "357                0.000000              0.003400  \n",
       "121                0.000000              0.003330  \n",
       "331                0.000000              0.003326  \n",
       "332                0.000000              0.003326  \n",
       "370                0.000000              0.003268  \n",
       "2013               0.000000              0.003265  \n",
       "24                 0.000000              0.003225  \n",
       "87                 0.010142              0.003205  \n",
       "110                0.008489              0.003046  \n",
       "155                0.000000              0.003012  \n",
       "41                 0.000000              0.002989  \n",
       "244                0.000000              0.002971  \n",
       "233                0.000000              0.002962  \n",
       "181                0.005534              0.002916  \n",
       "174                0.000000              0.002912  \n",
       "3108               0.000000              0.002834  \n",
       "472                0.000000              0.002782  \n",
       "2038               0.000000              0.002628  \n",
       "2042               0.000000              0.002599  \n",
       "130                0.007231              0.002543  "
      ]
     },
     "metadata": {},
     "output_type": "display_data"
    }
   ],
   "source": [
    "chosen_allocation = AssetAllocation(index_names)\n",
    "chosen_allocation.set_allocation(\"Momentum\",0.2)\n",
    "chosen_allocation.set_allocation(\"Value\",0.4)\n",
    "chosen_allocation.set_allocation(\"Small-Cap (Value)\",0.4)\n",
    "df = create_index_of_indices(df, \"Small-Value-Momentum\", chosen_allocation)\n",
    "df.to_excel(\"Holdings.xlsx\")\n",
    "\n",
    "df = df.sort_values(\"Small-Value-Momentum\",ascending=False)\n",
    "display(df.head(50))"
   ]
  },
  {
   "cell_type": "code",
   "execution_count": 5,
   "metadata": {},
   "outputs": [
    {
     "name": "stdout",
     "output_type": "stream",
     "text": [
      "0.9999999849\n",
      "1.00000008\n"
     ]
    }
   ],
   "source": [
    "print(df[\"High-Dividend (World)\"].sum())\n",
    "print(df[\"Small-Cap (Value)\"].sum())"
   ]
  },
  {
   "cell_type": "code",
   "execution_count": 20,
   "metadata": {},
   "outputs": [
    {
     "name": "stderr",
     "output_type": "stream",
     "text": [
      "<ipython-input-20-9465c8cb4614>:3: SettingWithCopyWarning:\n",
      "\n",
      "\n",
      "A value is trying to be set on a copy of a slice from a DataFrame\n",
      "\n",
      "See the caveats in the documentation: https://pandas.pydata.org/pandas-docs/stable/user_guide/indexing.html#returning-a-view-versus-a-copy\n",
      "\n"
     ]
    },
    {
     "data": {
      "application/vnd.plotly.v1+json": {
       "config": {
        "plotlyServerURL": "https://plot.ly"
       },
       "data": [
        {
         "domain": {
          "x": [
           0,
           1
          ],
          "y": [
           0,
           1
          ]
         },
         "hovertemplate": "Industry Classification=%{label}<br>Small-Value-Momentum=%{value}<extra></extra>",
         "labels": [
          "Other",
          "Other",
          "Other",
          "Other",
          "Other",
          "Other",
          "Other",
          "Other",
          "Other",
          "Other",
          "Other",
          "Other",
          "Communication Services",
          "Other",
          "Other",
          "Other",
          "Consumer Discretionary",
          "Consumer Staples",
          "Other",
          "Other",
          "Other",
          "Other",
          "Energy",
          "Other",
          "Other",
          "Financials",
          "Other",
          "Other",
          "Other",
          "Health Care",
          "Other",
          "Other",
          "Other",
          "Other",
          "Other",
          "Industrials",
          "Information Technology",
          "Other",
          "Other",
          "Other",
          "Other",
          "Other",
          "Other",
          "Materials",
          "Other",
          "Other",
          "Other",
          "Other",
          "Other",
          "Real Estate",
          "Other",
          "Other",
          "Other",
          "Other",
          "Other",
          "Other",
          "Other",
          "Other",
          "Other",
          "Other",
          "Utilities",
          "Other",
          "Other"
         ],
         "legendgroup": "",
         "name": "",
         "showlegend": true,
         "type": "pie",
         "values": [
          0,
          2.3272000000000004e-05,
          9.77e-05,
          0.00021544,
          0.003000731999999999,
          0.00046716799999999996,
          8.3084e-05,
          0.000232252,
          0,
          0.00035731200000000004,
          0.00013610800000000002,
          0.007896904000000001,
          0.06462844342,
          0.00011256800000000001,
          8.2548e-05,
          8.187600000000001e-05,
          0.15744565026000007,
          0.04876199351999997,
          8.6452e-05,
          4.8744000000000006e-05,
          0.000234104,
          0.00011594800000000001,
          0.044783124699999996,
          6.9396e-05,
          0.000390252,
          0.15180052553999998,
          5.0416000000000007e-05,
          0.000146916,
          8.792000000000001e-05,
          0.0863599423000001,
          3.508e-05,
          5.2324e-05,
          0.00019625200000000003,
          0.00011781199999999999,
          4.7212e-05,
          0.12303214862000006,
          0.19874368947999993,
          0.0005652119999999999,
          0.000159156,
          0.000128512,
          2.8836e-05,
          0.000192612,
          4.16e-05,
          0.05101496220000003,
          0.0007127920000000001,
          0.00039507600000000006,
          0.0005482120000000001,
          0.00020577600000000002,
          9.344e-05,
          0.03801344312000001,
          8.1648e-05,
          0.00014697200000000002,
          6.3316e-05,
          0.00029656400000000003,
          3.3616000000000005e-05,
          0.000215024,
          0.00042075600000000005,
          4.2872000000000006e-05,
          9.062e-05,
          4.04e-07,
          0.021422574560000008,
          3.1944e-05,
          -0.0012599076799999999
         ]
        }
       ],
       "layout": {
        "legend": {
         "tracegroupgap": 0
        },
        "margin": {
         "t": 60
        },
        "template": {
         "data": {
          "bar": [
           {
            "error_x": {
             "color": "#2a3f5f"
            },
            "error_y": {
             "color": "#2a3f5f"
            },
            "marker": {
             "line": {
              "color": "#E5ECF6",
              "width": 0.5
             }
            },
            "type": "bar"
           }
          ],
          "barpolar": [
           {
            "marker": {
             "line": {
              "color": "#E5ECF6",
              "width": 0.5
             }
            },
            "type": "barpolar"
           }
          ],
          "carpet": [
           {
            "aaxis": {
             "endlinecolor": "#2a3f5f",
             "gridcolor": "white",
             "linecolor": "white",
             "minorgridcolor": "white",
             "startlinecolor": "#2a3f5f"
            },
            "baxis": {
             "endlinecolor": "#2a3f5f",
             "gridcolor": "white",
             "linecolor": "white",
             "minorgridcolor": "white",
             "startlinecolor": "#2a3f5f"
            },
            "type": "carpet"
           }
          ],
          "choropleth": [
           {
            "colorbar": {
             "outlinewidth": 0,
             "ticks": ""
            },
            "type": "choropleth"
           }
          ],
          "contour": [
           {
            "colorbar": {
             "outlinewidth": 0,
             "ticks": ""
            },
            "colorscale": [
             [
              0,
              "#0d0887"
             ],
             [
              0.1111111111111111,
              "#46039f"
             ],
             [
              0.2222222222222222,
              "#7201a8"
             ],
             [
              0.3333333333333333,
              "#9c179e"
             ],
             [
              0.4444444444444444,
              "#bd3786"
             ],
             [
              0.5555555555555556,
              "#d8576b"
             ],
             [
              0.6666666666666666,
              "#ed7953"
             ],
             [
              0.7777777777777778,
              "#fb9f3a"
             ],
             [
              0.8888888888888888,
              "#fdca26"
             ],
             [
              1,
              "#f0f921"
             ]
            ],
            "type": "contour"
           }
          ],
          "contourcarpet": [
           {
            "colorbar": {
             "outlinewidth": 0,
             "ticks": ""
            },
            "type": "contourcarpet"
           }
          ],
          "heatmap": [
           {
            "colorbar": {
             "outlinewidth": 0,
             "ticks": ""
            },
            "colorscale": [
             [
              0,
              "#0d0887"
             ],
             [
              0.1111111111111111,
              "#46039f"
             ],
             [
              0.2222222222222222,
              "#7201a8"
             ],
             [
              0.3333333333333333,
              "#9c179e"
             ],
             [
              0.4444444444444444,
              "#bd3786"
             ],
             [
              0.5555555555555556,
              "#d8576b"
             ],
             [
              0.6666666666666666,
              "#ed7953"
             ],
             [
              0.7777777777777778,
              "#fb9f3a"
             ],
             [
              0.8888888888888888,
              "#fdca26"
             ],
             [
              1,
              "#f0f921"
             ]
            ],
            "type": "heatmap"
           }
          ],
          "heatmapgl": [
           {
            "colorbar": {
             "outlinewidth": 0,
             "ticks": ""
            },
            "colorscale": [
             [
              0,
              "#0d0887"
             ],
             [
              0.1111111111111111,
              "#46039f"
             ],
             [
              0.2222222222222222,
              "#7201a8"
             ],
             [
              0.3333333333333333,
              "#9c179e"
             ],
             [
              0.4444444444444444,
              "#bd3786"
             ],
             [
              0.5555555555555556,
              "#d8576b"
             ],
             [
              0.6666666666666666,
              "#ed7953"
             ],
             [
              0.7777777777777778,
              "#fb9f3a"
             ],
             [
              0.8888888888888888,
              "#fdca26"
             ],
             [
              1,
              "#f0f921"
             ]
            ],
            "type": "heatmapgl"
           }
          ],
          "histogram": [
           {
            "marker": {
             "colorbar": {
              "outlinewidth": 0,
              "ticks": ""
             }
            },
            "type": "histogram"
           }
          ],
          "histogram2d": [
           {
            "colorbar": {
             "outlinewidth": 0,
             "ticks": ""
            },
            "colorscale": [
             [
              0,
              "#0d0887"
             ],
             [
              0.1111111111111111,
              "#46039f"
             ],
             [
              0.2222222222222222,
              "#7201a8"
             ],
             [
              0.3333333333333333,
              "#9c179e"
             ],
             [
              0.4444444444444444,
              "#bd3786"
             ],
             [
              0.5555555555555556,
              "#d8576b"
             ],
             [
              0.6666666666666666,
              "#ed7953"
             ],
             [
              0.7777777777777778,
              "#fb9f3a"
             ],
             [
              0.8888888888888888,
              "#fdca26"
             ],
             [
              1,
              "#f0f921"
             ]
            ],
            "type": "histogram2d"
           }
          ],
          "histogram2dcontour": [
           {
            "colorbar": {
             "outlinewidth": 0,
             "ticks": ""
            },
            "colorscale": [
             [
              0,
              "#0d0887"
             ],
             [
              0.1111111111111111,
              "#46039f"
             ],
             [
              0.2222222222222222,
              "#7201a8"
             ],
             [
              0.3333333333333333,
              "#9c179e"
             ],
             [
              0.4444444444444444,
              "#bd3786"
             ],
             [
              0.5555555555555556,
              "#d8576b"
             ],
             [
              0.6666666666666666,
              "#ed7953"
             ],
             [
              0.7777777777777778,
              "#fb9f3a"
             ],
             [
              0.8888888888888888,
              "#fdca26"
             ],
             [
              1,
              "#f0f921"
             ]
            ],
            "type": "histogram2dcontour"
           }
          ],
          "mesh3d": [
           {
            "colorbar": {
             "outlinewidth": 0,
             "ticks": ""
            },
            "type": "mesh3d"
           }
          ],
          "parcoords": [
           {
            "line": {
             "colorbar": {
              "outlinewidth": 0,
              "ticks": ""
             }
            },
            "type": "parcoords"
           }
          ],
          "pie": [
           {
            "automargin": true,
            "type": "pie"
           }
          ],
          "scatter": [
           {
            "marker": {
             "colorbar": {
              "outlinewidth": 0,
              "ticks": ""
             }
            },
            "type": "scatter"
           }
          ],
          "scatter3d": [
           {
            "line": {
             "colorbar": {
              "outlinewidth": 0,
              "ticks": ""
             }
            },
            "marker": {
             "colorbar": {
              "outlinewidth": 0,
              "ticks": ""
             }
            },
            "type": "scatter3d"
           }
          ],
          "scattercarpet": [
           {
            "marker": {
             "colorbar": {
              "outlinewidth": 0,
              "ticks": ""
             }
            },
            "type": "scattercarpet"
           }
          ],
          "scattergeo": [
           {
            "marker": {
             "colorbar": {
              "outlinewidth": 0,
              "ticks": ""
             }
            },
            "type": "scattergeo"
           }
          ],
          "scattergl": [
           {
            "marker": {
             "colorbar": {
              "outlinewidth": 0,
              "ticks": ""
             }
            },
            "type": "scattergl"
           }
          ],
          "scattermapbox": [
           {
            "marker": {
             "colorbar": {
              "outlinewidth": 0,
              "ticks": ""
             }
            },
            "type": "scattermapbox"
           }
          ],
          "scatterpolar": [
           {
            "marker": {
             "colorbar": {
              "outlinewidth": 0,
              "ticks": ""
             }
            },
            "type": "scatterpolar"
           }
          ],
          "scatterpolargl": [
           {
            "marker": {
             "colorbar": {
              "outlinewidth": 0,
              "ticks": ""
             }
            },
            "type": "scatterpolargl"
           }
          ],
          "scatterternary": [
           {
            "marker": {
             "colorbar": {
              "outlinewidth": 0,
              "ticks": ""
             }
            },
            "type": "scatterternary"
           }
          ],
          "surface": [
           {
            "colorbar": {
             "outlinewidth": 0,
             "ticks": ""
            },
            "colorscale": [
             [
              0,
              "#0d0887"
             ],
             [
              0.1111111111111111,
              "#46039f"
             ],
             [
              0.2222222222222222,
              "#7201a8"
             ],
             [
              0.3333333333333333,
              "#9c179e"
             ],
             [
              0.4444444444444444,
              "#bd3786"
             ],
             [
              0.5555555555555556,
              "#d8576b"
             ],
             [
              0.6666666666666666,
              "#ed7953"
             ],
             [
              0.7777777777777778,
              "#fb9f3a"
             ],
             [
              0.8888888888888888,
              "#fdca26"
             ],
             [
              1,
              "#f0f921"
             ]
            ],
            "type": "surface"
           }
          ],
          "table": [
           {
            "cells": {
             "fill": {
              "color": "#EBF0F8"
             },
             "line": {
              "color": "white"
             }
            },
            "header": {
             "fill": {
              "color": "#C8D4E3"
             },
             "line": {
              "color": "white"
             }
            },
            "type": "table"
           }
          ]
         },
         "layout": {
          "annotationdefaults": {
           "arrowcolor": "#2a3f5f",
           "arrowhead": 0,
           "arrowwidth": 1
          },
          "autotypenumbers": "strict",
          "coloraxis": {
           "colorbar": {
            "outlinewidth": 0,
            "ticks": ""
           }
          },
          "colorscale": {
           "diverging": [
            [
             0,
             "#8e0152"
            ],
            [
             0.1,
             "#c51b7d"
            ],
            [
             0.2,
             "#de77ae"
            ],
            [
             0.3,
             "#f1b6da"
            ],
            [
             0.4,
             "#fde0ef"
            ],
            [
             0.5,
             "#f7f7f7"
            ],
            [
             0.6,
             "#e6f5d0"
            ],
            [
             0.7,
             "#b8e186"
            ],
            [
             0.8,
             "#7fbc41"
            ],
            [
             0.9,
             "#4d9221"
            ],
            [
             1,
             "#276419"
            ]
           ],
           "sequential": [
            [
             0,
             "#0d0887"
            ],
            [
             0.1111111111111111,
             "#46039f"
            ],
            [
             0.2222222222222222,
             "#7201a8"
            ],
            [
             0.3333333333333333,
             "#9c179e"
            ],
            [
             0.4444444444444444,
             "#bd3786"
            ],
            [
             0.5555555555555556,
             "#d8576b"
            ],
            [
             0.6666666666666666,
             "#ed7953"
            ],
            [
             0.7777777777777778,
             "#fb9f3a"
            ],
            [
             0.8888888888888888,
             "#fdca26"
            ],
            [
             1,
             "#f0f921"
            ]
           ],
           "sequentialminus": [
            [
             0,
             "#0d0887"
            ],
            [
             0.1111111111111111,
             "#46039f"
            ],
            [
             0.2222222222222222,
             "#7201a8"
            ],
            [
             0.3333333333333333,
             "#9c179e"
            ],
            [
             0.4444444444444444,
             "#bd3786"
            ],
            [
             0.5555555555555556,
             "#d8576b"
            ],
            [
             0.6666666666666666,
             "#ed7953"
            ],
            [
             0.7777777777777778,
             "#fb9f3a"
            ],
            [
             0.8888888888888888,
             "#fdca26"
            ],
            [
             1,
             "#f0f921"
            ]
           ]
          },
          "colorway": [
           "#636efa",
           "#EF553B",
           "#00cc96",
           "#ab63fa",
           "#FFA15A",
           "#19d3f3",
           "#FF6692",
           "#B6E880",
           "#FF97FF",
           "#FECB52"
          ],
          "font": {
           "color": "#2a3f5f"
          },
          "geo": {
           "bgcolor": "white",
           "lakecolor": "white",
           "landcolor": "#E5ECF6",
           "showlakes": true,
           "showland": true,
           "subunitcolor": "white"
          },
          "hoverlabel": {
           "align": "left"
          },
          "hovermode": "closest",
          "mapbox": {
           "style": "light"
          },
          "paper_bgcolor": "white",
          "plot_bgcolor": "#E5ECF6",
          "polar": {
           "angularaxis": {
            "gridcolor": "white",
            "linecolor": "white",
            "ticks": ""
           },
           "bgcolor": "#E5ECF6",
           "radialaxis": {
            "gridcolor": "white",
            "linecolor": "white",
            "ticks": ""
           }
          },
          "scene": {
           "xaxis": {
            "backgroundcolor": "#E5ECF6",
            "gridcolor": "white",
            "gridwidth": 2,
            "linecolor": "white",
            "showbackground": true,
            "ticks": "",
            "zerolinecolor": "white"
           },
           "yaxis": {
            "backgroundcolor": "#E5ECF6",
            "gridcolor": "white",
            "gridwidth": 2,
            "linecolor": "white",
            "showbackground": true,
            "ticks": "",
            "zerolinecolor": "white"
           },
           "zaxis": {
            "backgroundcolor": "#E5ECF6",
            "gridcolor": "white",
            "gridwidth": 2,
            "linecolor": "white",
            "showbackground": true,
            "ticks": "",
            "zerolinecolor": "white"
           }
          },
          "shapedefaults": {
           "line": {
            "color": "#2a3f5f"
           }
          },
          "ternary": {
           "aaxis": {
            "gridcolor": "white",
            "linecolor": "white",
            "ticks": ""
           },
           "baxis": {
            "gridcolor": "white",
            "linecolor": "white",
            "ticks": ""
           },
           "bgcolor": "#E5ECF6",
           "caxis": {
            "gridcolor": "white",
            "linecolor": "white",
            "ticks": ""
           }
          },
          "title": {
           "x": 0.05
          },
          "xaxis": {
           "automargin": true,
           "gridcolor": "white",
           "linecolor": "white",
           "ticks": "",
           "title": {
            "standoff": 15
           },
           "zerolinecolor": "white",
           "zerolinewidth": 2
          },
          "yaxis": {
           "automargin": true,
           "gridcolor": "white",
           "linecolor": "white",
           "ticks": "",
           "title": {
            "standoff": 15
           },
           "zerolinecolor": "white",
           "zerolinewidth": 2
          }
         }
        }
       }
      },
      "text/html": [
       "<div>                            <div id=\"eb1c237a-1f0e-42bb-bd67-4173ba8f0bb3\" class=\"plotly-graph-div\" style=\"height:525px; width:100%;\"></div>            <script type=\"text/javascript\">                require([\"plotly\"], function(Plotly) {                    window.PLOTLYENV=window.PLOTLYENV || {};                                    if (document.getElementById(\"eb1c237a-1f0e-42bb-bd67-4173ba8f0bb3\")) {                    Plotly.newPlot(                        \"eb1c237a-1f0e-42bb-bd67-4173ba8f0bb3\",                        [{\"domain\": {\"x\": [0.0, 1.0], \"y\": [0.0, 1.0]}, \"hovertemplate\": \"Industry Classification=%{label}<br>Small-Value-Momentum=%{value}<extra></extra>\", \"labels\": [\"Other\", \"Other\", \"Other\", \"Other\", \"Other\", \"Other\", \"Other\", \"Other\", \"Other\", \"Other\", \"Other\", \"Other\", \"Communication Services\", \"Other\", \"Other\", \"Other\", \"Consumer Discretionary\", \"Consumer Staples\", \"Other\", \"Other\", \"Other\", \"Other\", \"Energy\", \"Other\", \"Other\", \"Financials\", \"Other\", \"Other\", \"Other\", \"Health Care\", \"Other\", \"Other\", \"Other\", \"Other\", \"Other\", \"Industrials\", \"Information Technology\", \"Other\", \"Other\", \"Other\", \"Other\", \"Other\", \"Other\", \"Materials\", \"Other\", \"Other\", \"Other\", \"Other\", \"Other\", \"Real Estate\", \"Other\", \"Other\", \"Other\", \"Other\", \"Other\", \"Other\", \"Other\", \"Other\", \"Other\", \"Other\", \"Utilities\", \"Other\", \"Other\"], \"legendgroup\": \"\", \"name\": \"\", \"showlegend\": true, \"type\": \"pie\", \"values\": [0.0, 2.3272000000000004e-05, 9.77e-05, 0.00021544, 0.003000731999999999, 0.00046716799999999996, 8.3084e-05, 0.000232252, 0.0, 0.00035731200000000004, 0.00013610800000000002, 0.007896904000000001, 0.06462844342, 0.00011256800000000001, 8.2548e-05, 8.187600000000001e-05, 0.15744565026000007, 0.04876199351999997, 8.6452e-05, 4.8744000000000006e-05, 0.000234104, 0.00011594800000000001, 0.044783124699999996, 6.9396e-05, 0.000390252, 0.15180052553999998, 5.0416000000000007e-05, 0.000146916, 8.792000000000001e-05, 0.0863599423000001, 3.508e-05, 5.2324e-05, 0.00019625200000000003, 0.00011781199999999999, 4.7212e-05, 0.12303214862000006, 0.19874368947999993, 0.0005652119999999999, 0.000159156, 0.000128512, 2.8836e-05, 0.000192612, 4.16e-05, 0.05101496220000003, 0.0007127920000000001, 0.00039507600000000006, 0.0005482120000000001, 0.00020577600000000002, 9.344e-05, 0.03801344312000001, 8.1648e-05, 0.00014697200000000002, 6.3316e-05, 0.00029656400000000003, 3.3616000000000005e-05, 0.000215024, 0.00042075600000000005, 4.2872000000000006e-05, 9.062e-05, 4.04e-07, 0.021422574560000008, 3.1944e-05, -0.0012599076799999999]}],                        {\"legend\": {\"tracegroupgap\": 0}, \"margin\": {\"t\": 60}, \"template\": {\"data\": {\"bar\": [{\"error_x\": {\"color\": \"#2a3f5f\"}, \"error_y\": {\"color\": \"#2a3f5f\"}, \"marker\": {\"line\": {\"color\": \"#E5ECF6\", \"width\": 0.5}}, \"type\": \"bar\"}], \"barpolar\": [{\"marker\": {\"line\": {\"color\": \"#E5ECF6\", \"width\": 0.5}}, \"type\": \"barpolar\"}], \"carpet\": [{\"aaxis\": {\"endlinecolor\": \"#2a3f5f\", \"gridcolor\": \"white\", \"linecolor\": \"white\", \"minorgridcolor\": \"white\", \"startlinecolor\": \"#2a3f5f\"}, \"baxis\": {\"endlinecolor\": \"#2a3f5f\", \"gridcolor\": \"white\", \"linecolor\": \"white\", \"minorgridcolor\": \"white\", \"startlinecolor\": \"#2a3f5f\"}, \"type\": \"carpet\"}], \"choropleth\": [{\"colorbar\": {\"outlinewidth\": 0, \"ticks\": \"\"}, \"type\": \"choropleth\"}], \"contour\": [{\"colorbar\": {\"outlinewidth\": 0, \"ticks\": \"\"}, \"colorscale\": [[0.0, \"#0d0887\"], [0.1111111111111111, \"#46039f\"], [0.2222222222222222, \"#7201a8\"], [0.3333333333333333, \"#9c179e\"], [0.4444444444444444, \"#bd3786\"], [0.5555555555555556, \"#d8576b\"], [0.6666666666666666, \"#ed7953\"], [0.7777777777777778, \"#fb9f3a\"], [0.8888888888888888, \"#fdca26\"], [1.0, \"#f0f921\"]], \"type\": \"contour\"}], \"contourcarpet\": [{\"colorbar\": {\"outlinewidth\": 0, \"ticks\": \"\"}, \"type\": \"contourcarpet\"}], \"heatmap\": [{\"colorbar\": {\"outlinewidth\": 0, \"ticks\": \"\"}, \"colorscale\": [[0.0, \"#0d0887\"], [0.1111111111111111, \"#46039f\"], [0.2222222222222222, \"#7201a8\"], [0.3333333333333333, \"#9c179e\"], [0.4444444444444444, \"#bd3786\"], [0.5555555555555556, \"#d8576b\"], [0.6666666666666666, \"#ed7953\"], [0.7777777777777778, \"#fb9f3a\"], [0.8888888888888888, \"#fdca26\"], [1.0, \"#f0f921\"]], \"type\": \"heatmap\"}], \"heatmapgl\": [{\"colorbar\": {\"outlinewidth\": 0, \"ticks\": \"\"}, \"colorscale\": [[0.0, \"#0d0887\"], [0.1111111111111111, \"#46039f\"], [0.2222222222222222, \"#7201a8\"], [0.3333333333333333, \"#9c179e\"], [0.4444444444444444, \"#bd3786\"], [0.5555555555555556, \"#d8576b\"], [0.6666666666666666, \"#ed7953\"], [0.7777777777777778, \"#fb9f3a\"], [0.8888888888888888, \"#fdca26\"], [1.0, \"#f0f921\"]], \"type\": \"heatmapgl\"}], \"histogram\": [{\"marker\": {\"colorbar\": {\"outlinewidth\": 0, \"ticks\": \"\"}}, \"type\": \"histogram\"}], \"histogram2d\": [{\"colorbar\": {\"outlinewidth\": 0, \"ticks\": \"\"}, \"colorscale\": [[0.0, \"#0d0887\"], [0.1111111111111111, \"#46039f\"], [0.2222222222222222, \"#7201a8\"], [0.3333333333333333, \"#9c179e\"], [0.4444444444444444, \"#bd3786\"], [0.5555555555555556, \"#d8576b\"], [0.6666666666666666, \"#ed7953\"], [0.7777777777777778, \"#fb9f3a\"], [0.8888888888888888, \"#fdca26\"], [1.0, \"#f0f921\"]], \"type\": \"histogram2d\"}], \"histogram2dcontour\": [{\"colorbar\": {\"outlinewidth\": 0, \"ticks\": \"\"}, \"colorscale\": [[0.0, \"#0d0887\"], [0.1111111111111111, \"#46039f\"], [0.2222222222222222, \"#7201a8\"], [0.3333333333333333, \"#9c179e\"], [0.4444444444444444, \"#bd3786\"], [0.5555555555555556, \"#d8576b\"], [0.6666666666666666, \"#ed7953\"], [0.7777777777777778, \"#fb9f3a\"], [0.8888888888888888, \"#fdca26\"], [1.0, \"#f0f921\"]], \"type\": \"histogram2dcontour\"}], \"mesh3d\": [{\"colorbar\": {\"outlinewidth\": 0, \"ticks\": \"\"}, \"type\": \"mesh3d\"}], \"parcoords\": [{\"line\": {\"colorbar\": {\"outlinewidth\": 0, \"ticks\": \"\"}}, \"type\": \"parcoords\"}], \"pie\": [{\"automargin\": true, \"type\": \"pie\"}], \"scatter\": [{\"marker\": {\"colorbar\": {\"outlinewidth\": 0, \"ticks\": \"\"}}, \"type\": \"scatter\"}], \"scatter3d\": [{\"line\": {\"colorbar\": {\"outlinewidth\": 0, \"ticks\": \"\"}}, \"marker\": {\"colorbar\": {\"outlinewidth\": 0, \"ticks\": \"\"}}, \"type\": \"scatter3d\"}], \"scattercarpet\": [{\"marker\": {\"colorbar\": {\"outlinewidth\": 0, \"ticks\": \"\"}}, \"type\": \"scattercarpet\"}], \"scattergeo\": [{\"marker\": {\"colorbar\": {\"outlinewidth\": 0, \"ticks\": \"\"}}, \"type\": \"scattergeo\"}], \"scattergl\": [{\"marker\": {\"colorbar\": {\"outlinewidth\": 0, \"ticks\": \"\"}}, \"type\": \"scattergl\"}], \"scattermapbox\": [{\"marker\": {\"colorbar\": {\"outlinewidth\": 0, \"ticks\": \"\"}}, \"type\": \"scattermapbox\"}], \"scatterpolar\": [{\"marker\": {\"colorbar\": {\"outlinewidth\": 0, \"ticks\": \"\"}}, \"type\": \"scatterpolar\"}], \"scatterpolargl\": [{\"marker\": {\"colorbar\": {\"outlinewidth\": 0, \"ticks\": \"\"}}, \"type\": \"scatterpolargl\"}], \"scatterternary\": [{\"marker\": {\"colorbar\": {\"outlinewidth\": 0, \"ticks\": \"\"}}, \"type\": \"scatterternary\"}], \"surface\": [{\"colorbar\": {\"outlinewidth\": 0, \"ticks\": \"\"}, \"colorscale\": [[0.0, \"#0d0887\"], [0.1111111111111111, \"#46039f\"], [0.2222222222222222, \"#7201a8\"], [0.3333333333333333, \"#9c179e\"], [0.4444444444444444, \"#bd3786\"], [0.5555555555555556, \"#d8576b\"], [0.6666666666666666, \"#ed7953\"], [0.7777777777777778, \"#fb9f3a\"], [0.8888888888888888, \"#fdca26\"], [1.0, \"#f0f921\"]], \"type\": \"surface\"}], \"table\": [{\"cells\": {\"fill\": {\"color\": \"#EBF0F8\"}, \"line\": {\"color\": \"white\"}}, \"header\": {\"fill\": {\"color\": \"#C8D4E3\"}, \"line\": {\"color\": \"white\"}}, \"type\": \"table\"}]}, \"layout\": {\"annotationdefaults\": {\"arrowcolor\": \"#2a3f5f\", \"arrowhead\": 0, \"arrowwidth\": 1}, \"autotypenumbers\": \"strict\", \"coloraxis\": {\"colorbar\": {\"outlinewidth\": 0, \"ticks\": \"\"}}, \"colorscale\": {\"diverging\": [[0, \"#8e0152\"], [0.1, \"#c51b7d\"], [0.2, \"#de77ae\"], [0.3, \"#f1b6da\"], [0.4, \"#fde0ef\"], [0.5, \"#f7f7f7\"], [0.6, \"#e6f5d0\"], [0.7, \"#b8e186\"], [0.8, \"#7fbc41\"], [0.9, \"#4d9221\"], [1, \"#276419\"]], \"sequential\": [[0.0, \"#0d0887\"], [0.1111111111111111, \"#46039f\"], [0.2222222222222222, \"#7201a8\"], [0.3333333333333333, \"#9c179e\"], [0.4444444444444444, \"#bd3786\"], [0.5555555555555556, \"#d8576b\"], [0.6666666666666666, \"#ed7953\"], [0.7777777777777778, \"#fb9f3a\"], [0.8888888888888888, \"#fdca26\"], [1.0, \"#f0f921\"]], \"sequentialminus\": [[0.0, \"#0d0887\"], [0.1111111111111111, \"#46039f\"], [0.2222222222222222, \"#7201a8\"], [0.3333333333333333, \"#9c179e\"], [0.4444444444444444, \"#bd3786\"], [0.5555555555555556, \"#d8576b\"], [0.6666666666666666, \"#ed7953\"], [0.7777777777777778, \"#fb9f3a\"], [0.8888888888888888, \"#fdca26\"], [1.0, \"#f0f921\"]]}, \"colorway\": [\"#636efa\", \"#EF553B\", \"#00cc96\", \"#ab63fa\", \"#FFA15A\", \"#19d3f3\", \"#FF6692\", \"#B6E880\", \"#FF97FF\", \"#FECB52\"], \"font\": {\"color\": \"#2a3f5f\"}, \"geo\": {\"bgcolor\": \"white\", \"lakecolor\": \"white\", \"landcolor\": \"#E5ECF6\", \"showlakes\": true, \"showland\": true, \"subunitcolor\": \"white\"}, \"hoverlabel\": {\"align\": \"left\"}, \"hovermode\": \"closest\", \"mapbox\": {\"style\": \"light\"}, \"paper_bgcolor\": \"white\", \"plot_bgcolor\": \"#E5ECF6\", \"polar\": {\"angularaxis\": {\"gridcolor\": \"white\", \"linecolor\": \"white\", \"ticks\": \"\"}, \"bgcolor\": \"#E5ECF6\", \"radialaxis\": {\"gridcolor\": \"white\", \"linecolor\": \"white\", \"ticks\": \"\"}}, \"scene\": {\"xaxis\": {\"backgroundcolor\": \"#E5ECF6\", \"gridcolor\": \"white\", \"gridwidth\": 2, \"linecolor\": \"white\", \"showbackground\": true, \"ticks\": \"\", \"zerolinecolor\": \"white\"}, \"yaxis\": {\"backgroundcolor\": \"#E5ECF6\", \"gridcolor\": \"white\", \"gridwidth\": 2, \"linecolor\": \"white\", \"showbackground\": true, \"ticks\": \"\", \"zerolinecolor\": \"white\"}, \"zaxis\": {\"backgroundcolor\": \"#E5ECF6\", \"gridcolor\": \"white\", \"gridwidth\": 2, \"linecolor\": \"white\", \"showbackground\": true, \"ticks\": \"\", \"zerolinecolor\": \"white\"}}, \"shapedefaults\": {\"line\": {\"color\": \"#2a3f5f\"}}, \"ternary\": {\"aaxis\": {\"gridcolor\": \"white\", \"linecolor\": \"white\", \"ticks\": \"\"}, \"baxis\": {\"gridcolor\": \"white\", \"linecolor\": \"white\", \"ticks\": \"\"}, \"bgcolor\": \"#E5ECF6\", \"caxis\": {\"gridcolor\": \"white\", \"linecolor\": \"white\", \"ticks\": \"\"}}, \"title\": {\"x\": 0.05}, \"xaxis\": {\"automargin\": true, \"gridcolor\": \"white\", \"linecolor\": \"white\", \"ticks\": \"\", \"title\": {\"standoff\": 15}, \"zerolinecolor\": \"white\", \"zerolinewidth\": 2}, \"yaxis\": {\"automargin\": true, \"gridcolor\": \"white\", \"linecolor\": \"white\", \"ticks\": \"\", \"title\": {\"standoff\": 15}, \"zerolinecolor\": \"white\", \"zerolinewidth\": 2}}}},                        {\"responsive\": true}                    ).then(function(){\n",
       "                            \n",
       "var gd = document.getElementById('eb1c237a-1f0e-42bb-bd67-4173ba8f0bb3');\n",
       "var x = new MutationObserver(function (mutations, observer) {{\n",
       "        var display = window.getComputedStyle(gd).display;\n",
       "        if (!display || display === 'none') {{\n",
       "            console.log([gd, 'removed!']);\n",
       "            Plotly.purge(gd);\n",
       "            observer.disconnect();\n",
       "        }}\n",
       "}});\n",
       "\n",
       "// Listen for the removal of the full notebook cells\n",
       "var notebookContainer = gd.closest('#notebook-container');\n",
       "if (notebookContainer) {{\n",
       "    x.observe(notebookContainer, {childList: true});\n",
       "}}\n",
       "\n",
       "// Listen for the clearing of the current output cell\n",
       "var outputEl = gd.closest('.output');\n",
       "if (outputEl) {{\n",
       "    x.observe(outputEl, {childList: true});\n",
       "}}\n",
       "\n",
       "                        })                };                });            </script>        </div>"
      ]
     },
     "metadata": {},
     "output_type": "display_data"
    }
   ],
   "source": [
    "grouped = df.groupby(\"Industry Classification\").sum()\n",
    "grouped = grouped.reset_index()\n",
    "grouped[\"Industry Classification\"][grouped[\"Small-Value-Momentum\"] <0.01] = \"Other\"\n",
    "#print(grouped)\n",
    "fig = px.pie(grouped, values='Small-Value-Momentum', names='Industry Classification')\n",
    "fig.show()\n"
   ]
  },
  {
   "cell_type": "code",
   "execution_count": 29,
   "metadata": {},
   "outputs": [
    {
     "name": "stderr",
     "output_type": "stream",
     "text": [
      "<ipython-input-29-6bde72e29795>:3: SettingWithCopyWarning:\n",
      "\n",
      "\n",
      "A value is trying to be set on a copy of a slice from a DataFrame\n",
      "\n",
      "See the caveats in the documentation: https://pandas.pydata.org/pandas-docs/stable/user_guide/indexing.html#returning-a-view-versus-a-copy\n",
      "\n"
     ]
    },
    {
     "data": {
      "application/vnd.plotly.v1+json": {
       "config": {
        "plotlyServerURL": "https://plot.ly"
       },
       "data": [
        {
         "domain": {
          "x": [
           0,
           1
          ],
          "y": [
           0,
           1
          ]
         },
         "hovertemplate": "Country=%{label}<br>Small-Value-Momentum=%{value}<extra></extra>",
         "labels": [
          "Other",
          "Other",
          "Other",
          "Other",
          "Other",
          "Other",
          "Other",
          "Canada",
          "Other",
          "Other",
          "Other",
          "Other",
          "France",
          "Germany",
          "Other",
          "Other",
          "Other",
          "Other",
          "Other",
          "Japan",
          "Other",
          "Other",
          "Other",
          "Other",
          "Netherlands",
          "Other",
          "Other",
          "Other",
          "Other",
          "Other",
          "Other",
          "Other",
          "Other",
          "Other",
          "United Kingdom",
          "United States"
         ],
         "legendgroup": "",
         "name": "",
         "showlegend": true,
         "type": "pie",
         "values": [
          0,
          5.4713279999999995e-05,
          0.00131268494,
          0.00454337384,
          0.0007941551600000001,
          0.00145923252,
          0.00089344404,
          0.01372132278,
          0,
          0.005063825500000001,
          0,
          0.0025919209800000006,
          0.029084897200000008,
          0.023476859380000013,
          0.00974337134,
          0.00399773756,
          0,
          0.00181003404,
          0.004091835300000001,
          0.11598371535999995,
          0.0001444562,
          0.00197576578,
          0,
          2.933986e-05,
          0.012908682020000001,
          0.00019012468,
          0.0005721297200000002,
          0,
          0.0001338375,
          0.00100374274,
          0.0078085937,
          0.00306813792,
          0.00563766588,
          0,
          0.040579102459999995,
          0.7110326403600001
         ]
        }
       ],
       "layout": {
        "legend": {
         "tracegroupgap": 0
        },
        "margin": {
         "t": 60
        },
        "template": {
         "data": {
          "bar": [
           {
            "error_x": {
             "color": "#2a3f5f"
            },
            "error_y": {
             "color": "#2a3f5f"
            },
            "marker": {
             "line": {
              "color": "#E5ECF6",
              "width": 0.5
             }
            },
            "type": "bar"
           }
          ],
          "barpolar": [
           {
            "marker": {
             "line": {
              "color": "#E5ECF6",
              "width": 0.5
             }
            },
            "type": "barpolar"
           }
          ],
          "carpet": [
           {
            "aaxis": {
             "endlinecolor": "#2a3f5f",
             "gridcolor": "white",
             "linecolor": "white",
             "minorgridcolor": "white",
             "startlinecolor": "#2a3f5f"
            },
            "baxis": {
             "endlinecolor": "#2a3f5f",
             "gridcolor": "white",
             "linecolor": "white",
             "minorgridcolor": "white",
             "startlinecolor": "#2a3f5f"
            },
            "type": "carpet"
           }
          ],
          "choropleth": [
           {
            "colorbar": {
             "outlinewidth": 0,
             "ticks": ""
            },
            "type": "choropleth"
           }
          ],
          "contour": [
           {
            "colorbar": {
             "outlinewidth": 0,
             "ticks": ""
            },
            "colorscale": [
             [
              0,
              "#0d0887"
             ],
             [
              0.1111111111111111,
              "#46039f"
             ],
             [
              0.2222222222222222,
              "#7201a8"
             ],
             [
              0.3333333333333333,
              "#9c179e"
             ],
             [
              0.4444444444444444,
              "#bd3786"
             ],
             [
              0.5555555555555556,
              "#d8576b"
             ],
             [
              0.6666666666666666,
              "#ed7953"
             ],
             [
              0.7777777777777778,
              "#fb9f3a"
             ],
             [
              0.8888888888888888,
              "#fdca26"
             ],
             [
              1,
              "#f0f921"
             ]
            ],
            "type": "contour"
           }
          ],
          "contourcarpet": [
           {
            "colorbar": {
             "outlinewidth": 0,
             "ticks": ""
            },
            "type": "contourcarpet"
           }
          ],
          "heatmap": [
           {
            "colorbar": {
             "outlinewidth": 0,
             "ticks": ""
            },
            "colorscale": [
             [
              0,
              "#0d0887"
             ],
             [
              0.1111111111111111,
              "#46039f"
             ],
             [
              0.2222222222222222,
              "#7201a8"
             ],
             [
              0.3333333333333333,
              "#9c179e"
             ],
             [
              0.4444444444444444,
              "#bd3786"
             ],
             [
              0.5555555555555556,
              "#d8576b"
             ],
             [
              0.6666666666666666,
              "#ed7953"
             ],
             [
              0.7777777777777778,
              "#fb9f3a"
             ],
             [
              0.8888888888888888,
              "#fdca26"
             ],
             [
              1,
              "#f0f921"
             ]
            ],
            "type": "heatmap"
           }
          ],
          "heatmapgl": [
           {
            "colorbar": {
             "outlinewidth": 0,
             "ticks": ""
            },
            "colorscale": [
             [
              0,
              "#0d0887"
             ],
             [
              0.1111111111111111,
              "#46039f"
             ],
             [
              0.2222222222222222,
              "#7201a8"
             ],
             [
              0.3333333333333333,
              "#9c179e"
             ],
             [
              0.4444444444444444,
              "#bd3786"
             ],
             [
              0.5555555555555556,
              "#d8576b"
             ],
             [
              0.6666666666666666,
              "#ed7953"
             ],
             [
              0.7777777777777778,
              "#fb9f3a"
             ],
             [
              0.8888888888888888,
              "#fdca26"
             ],
             [
              1,
              "#f0f921"
             ]
            ],
            "type": "heatmapgl"
           }
          ],
          "histogram": [
           {
            "marker": {
             "colorbar": {
              "outlinewidth": 0,
              "ticks": ""
             }
            },
            "type": "histogram"
           }
          ],
          "histogram2d": [
           {
            "colorbar": {
             "outlinewidth": 0,
             "ticks": ""
            },
            "colorscale": [
             [
              0,
              "#0d0887"
             ],
             [
              0.1111111111111111,
              "#46039f"
             ],
             [
              0.2222222222222222,
              "#7201a8"
             ],
             [
              0.3333333333333333,
              "#9c179e"
             ],
             [
              0.4444444444444444,
              "#bd3786"
             ],
             [
              0.5555555555555556,
              "#d8576b"
             ],
             [
              0.6666666666666666,
              "#ed7953"
             ],
             [
              0.7777777777777778,
              "#fb9f3a"
             ],
             [
              0.8888888888888888,
              "#fdca26"
             ],
             [
              1,
              "#f0f921"
             ]
            ],
            "type": "histogram2d"
           }
          ],
          "histogram2dcontour": [
           {
            "colorbar": {
             "outlinewidth": 0,
             "ticks": ""
            },
            "colorscale": [
             [
              0,
              "#0d0887"
             ],
             [
              0.1111111111111111,
              "#46039f"
             ],
             [
              0.2222222222222222,
              "#7201a8"
             ],
             [
              0.3333333333333333,
              "#9c179e"
             ],
             [
              0.4444444444444444,
              "#bd3786"
             ],
             [
              0.5555555555555556,
              "#d8576b"
             ],
             [
              0.6666666666666666,
              "#ed7953"
             ],
             [
              0.7777777777777778,
              "#fb9f3a"
             ],
             [
              0.8888888888888888,
              "#fdca26"
             ],
             [
              1,
              "#f0f921"
             ]
            ],
            "type": "histogram2dcontour"
           }
          ],
          "mesh3d": [
           {
            "colorbar": {
             "outlinewidth": 0,
             "ticks": ""
            },
            "type": "mesh3d"
           }
          ],
          "parcoords": [
           {
            "line": {
             "colorbar": {
              "outlinewidth": 0,
              "ticks": ""
             }
            },
            "type": "parcoords"
           }
          ],
          "pie": [
           {
            "automargin": true,
            "type": "pie"
           }
          ],
          "scatter": [
           {
            "marker": {
             "colorbar": {
              "outlinewidth": 0,
              "ticks": ""
             }
            },
            "type": "scatter"
           }
          ],
          "scatter3d": [
           {
            "line": {
             "colorbar": {
              "outlinewidth": 0,
              "ticks": ""
             }
            },
            "marker": {
             "colorbar": {
              "outlinewidth": 0,
              "ticks": ""
             }
            },
            "type": "scatter3d"
           }
          ],
          "scattercarpet": [
           {
            "marker": {
             "colorbar": {
              "outlinewidth": 0,
              "ticks": ""
             }
            },
            "type": "scattercarpet"
           }
          ],
          "scattergeo": [
           {
            "marker": {
             "colorbar": {
              "outlinewidth": 0,
              "ticks": ""
             }
            },
            "type": "scattergeo"
           }
          ],
          "scattergl": [
           {
            "marker": {
             "colorbar": {
              "outlinewidth": 0,
              "ticks": ""
             }
            },
            "type": "scattergl"
           }
          ],
          "scattermapbox": [
           {
            "marker": {
             "colorbar": {
              "outlinewidth": 0,
              "ticks": ""
             }
            },
            "type": "scattermapbox"
           }
          ],
          "scatterpolar": [
           {
            "marker": {
             "colorbar": {
              "outlinewidth": 0,
              "ticks": ""
             }
            },
            "type": "scatterpolar"
           }
          ],
          "scatterpolargl": [
           {
            "marker": {
             "colorbar": {
              "outlinewidth": 0,
              "ticks": ""
             }
            },
            "type": "scatterpolargl"
           }
          ],
          "scatterternary": [
           {
            "marker": {
             "colorbar": {
              "outlinewidth": 0,
              "ticks": ""
             }
            },
            "type": "scatterternary"
           }
          ],
          "surface": [
           {
            "colorbar": {
             "outlinewidth": 0,
             "ticks": ""
            },
            "colorscale": [
             [
              0,
              "#0d0887"
             ],
             [
              0.1111111111111111,
              "#46039f"
             ],
             [
              0.2222222222222222,
              "#7201a8"
             ],
             [
              0.3333333333333333,
              "#9c179e"
             ],
             [
              0.4444444444444444,
              "#bd3786"
             ],
             [
              0.5555555555555556,
              "#d8576b"
             ],
             [
              0.6666666666666666,
              "#ed7953"
             ],
             [
              0.7777777777777778,
              "#fb9f3a"
             ],
             [
              0.8888888888888888,
              "#fdca26"
             ],
             [
              1,
              "#f0f921"
             ]
            ],
            "type": "surface"
           }
          ],
          "table": [
           {
            "cells": {
             "fill": {
              "color": "#EBF0F8"
             },
             "line": {
              "color": "white"
             }
            },
            "header": {
             "fill": {
              "color": "#C8D4E3"
             },
             "line": {
              "color": "white"
             }
            },
            "type": "table"
           }
          ]
         },
         "layout": {
          "annotationdefaults": {
           "arrowcolor": "#2a3f5f",
           "arrowhead": 0,
           "arrowwidth": 1
          },
          "autotypenumbers": "strict",
          "coloraxis": {
           "colorbar": {
            "outlinewidth": 0,
            "ticks": ""
           }
          },
          "colorscale": {
           "diverging": [
            [
             0,
             "#8e0152"
            ],
            [
             0.1,
             "#c51b7d"
            ],
            [
             0.2,
             "#de77ae"
            ],
            [
             0.3,
             "#f1b6da"
            ],
            [
             0.4,
             "#fde0ef"
            ],
            [
             0.5,
             "#f7f7f7"
            ],
            [
             0.6,
             "#e6f5d0"
            ],
            [
             0.7,
             "#b8e186"
            ],
            [
             0.8,
             "#7fbc41"
            ],
            [
             0.9,
             "#4d9221"
            ],
            [
             1,
             "#276419"
            ]
           ],
           "sequential": [
            [
             0,
             "#0d0887"
            ],
            [
             0.1111111111111111,
             "#46039f"
            ],
            [
             0.2222222222222222,
             "#7201a8"
            ],
            [
             0.3333333333333333,
             "#9c179e"
            ],
            [
             0.4444444444444444,
             "#bd3786"
            ],
            [
             0.5555555555555556,
             "#d8576b"
            ],
            [
             0.6666666666666666,
             "#ed7953"
            ],
            [
             0.7777777777777778,
             "#fb9f3a"
            ],
            [
             0.8888888888888888,
             "#fdca26"
            ],
            [
             1,
             "#f0f921"
            ]
           ],
           "sequentialminus": [
            [
             0,
             "#0d0887"
            ],
            [
             0.1111111111111111,
             "#46039f"
            ],
            [
             0.2222222222222222,
             "#7201a8"
            ],
            [
             0.3333333333333333,
             "#9c179e"
            ],
            [
             0.4444444444444444,
             "#bd3786"
            ],
            [
             0.5555555555555556,
             "#d8576b"
            ],
            [
             0.6666666666666666,
             "#ed7953"
            ],
            [
             0.7777777777777778,
             "#fb9f3a"
            ],
            [
             0.8888888888888888,
             "#fdca26"
            ],
            [
             1,
             "#f0f921"
            ]
           ]
          },
          "colorway": [
           "#636efa",
           "#EF553B",
           "#00cc96",
           "#ab63fa",
           "#FFA15A",
           "#19d3f3",
           "#FF6692",
           "#B6E880",
           "#FF97FF",
           "#FECB52"
          ],
          "font": {
           "color": "#2a3f5f"
          },
          "geo": {
           "bgcolor": "white",
           "lakecolor": "white",
           "landcolor": "#E5ECF6",
           "showlakes": true,
           "showland": true,
           "subunitcolor": "white"
          },
          "hoverlabel": {
           "align": "left"
          },
          "hovermode": "closest",
          "mapbox": {
           "style": "light"
          },
          "paper_bgcolor": "white",
          "plot_bgcolor": "#E5ECF6",
          "polar": {
           "angularaxis": {
            "gridcolor": "white",
            "linecolor": "white",
            "ticks": ""
           },
           "bgcolor": "#E5ECF6",
           "radialaxis": {
            "gridcolor": "white",
            "linecolor": "white",
            "ticks": ""
           }
          },
          "scene": {
           "xaxis": {
            "backgroundcolor": "#E5ECF6",
            "gridcolor": "white",
            "gridwidth": 2,
            "linecolor": "white",
            "showbackground": true,
            "ticks": "",
            "zerolinecolor": "white"
           },
           "yaxis": {
            "backgroundcolor": "#E5ECF6",
            "gridcolor": "white",
            "gridwidth": 2,
            "linecolor": "white",
            "showbackground": true,
            "ticks": "",
            "zerolinecolor": "white"
           },
           "zaxis": {
            "backgroundcolor": "#E5ECF6",
            "gridcolor": "white",
            "gridwidth": 2,
            "linecolor": "white",
            "showbackground": true,
            "ticks": "",
            "zerolinecolor": "white"
           }
          },
          "shapedefaults": {
           "line": {
            "color": "#2a3f5f"
           }
          },
          "ternary": {
           "aaxis": {
            "gridcolor": "white",
            "linecolor": "white",
            "ticks": ""
           },
           "baxis": {
            "gridcolor": "white",
            "linecolor": "white",
            "ticks": ""
           },
           "bgcolor": "#E5ECF6",
           "caxis": {
            "gridcolor": "white",
            "linecolor": "white",
            "ticks": ""
           }
          },
          "title": {
           "x": 0.05
          },
          "xaxis": {
           "automargin": true,
           "gridcolor": "white",
           "linecolor": "white",
           "ticks": "",
           "title": {
            "standoff": 15
           },
           "zerolinecolor": "white",
           "zerolinewidth": 2
          },
          "yaxis": {
           "automargin": true,
           "gridcolor": "white",
           "linecolor": "white",
           "ticks": "",
           "title": {
            "standoff": 15
           },
           "zerolinecolor": "white",
           "zerolinewidth": 2
          }
         }
        }
       }
      },
      "text/html": [
       "<div>                            <div id=\"bcd72df2-b478-4c11-b6aa-9f7fa7efc2d4\" class=\"plotly-graph-div\" style=\"height:525px; width:100%;\"></div>            <script type=\"text/javascript\">                require([\"plotly\"], function(Plotly) {                    window.PLOTLYENV=window.PLOTLYENV || {};                                    if (document.getElementById(\"bcd72df2-b478-4c11-b6aa-9f7fa7efc2d4\")) {                    Plotly.newPlot(                        \"bcd72df2-b478-4c11-b6aa-9f7fa7efc2d4\",                        [{\"domain\": {\"x\": [0.0, 1.0], \"y\": [0.0, 1.0]}, \"hovertemplate\": \"Country=%{label}<br>Small-Value-Momentum=%{value}<extra></extra>\", \"labels\": [\"Other\", \"Other\", \"Other\", \"Other\", \"Other\", \"Other\", \"Other\", \"Canada\", \"Other\", \"Other\", \"Other\", \"Other\", \"France\", \"Germany\", \"Other\", \"Other\", \"Other\", \"Other\", \"Other\", \"Japan\", \"Other\", \"Other\", \"Other\", \"Other\", \"Netherlands\", \"Other\", \"Other\", \"Other\", \"Other\", \"Other\", \"Other\", \"Other\", \"Other\", \"Other\", \"United Kingdom\", \"United States\"], \"legendgroup\": \"\", \"name\": \"\", \"showlegend\": true, \"type\": \"pie\", \"values\": [0.0, 5.4713279999999995e-05, 0.00131268494, 0.00454337384, 0.0007941551600000001, 0.00145923252, 0.00089344404, 0.01372132278, 0.0, 0.005063825500000001, 0.0, 0.0025919209800000006, 0.029084897200000008, 0.023476859380000013, 0.00974337134, 0.00399773756, 0.0, 0.00181003404, 0.004091835300000001, 0.11598371535999995, 0.0001444562, 0.00197576578, 0.0, 2.933986e-05, 0.012908682020000001, 0.00019012468, 0.0005721297200000002, 0.0, 0.0001338375, 0.00100374274, 0.0078085937, 0.00306813792, 0.00563766588, 0.0, 0.040579102459999995, 0.7110326403600001]}],                        {\"legend\": {\"tracegroupgap\": 0}, \"margin\": {\"t\": 60}, \"template\": {\"data\": {\"bar\": [{\"error_x\": {\"color\": \"#2a3f5f\"}, \"error_y\": {\"color\": \"#2a3f5f\"}, \"marker\": {\"line\": {\"color\": \"#E5ECF6\", \"width\": 0.5}}, \"type\": \"bar\"}], \"barpolar\": [{\"marker\": {\"line\": {\"color\": \"#E5ECF6\", \"width\": 0.5}}, \"type\": \"barpolar\"}], \"carpet\": [{\"aaxis\": {\"endlinecolor\": \"#2a3f5f\", \"gridcolor\": \"white\", \"linecolor\": \"white\", \"minorgridcolor\": \"white\", \"startlinecolor\": \"#2a3f5f\"}, \"baxis\": {\"endlinecolor\": \"#2a3f5f\", \"gridcolor\": \"white\", \"linecolor\": \"white\", \"minorgridcolor\": \"white\", \"startlinecolor\": \"#2a3f5f\"}, \"type\": \"carpet\"}], \"choropleth\": [{\"colorbar\": {\"outlinewidth\": 0, \"ticks\": \"\"}, \"type\": \"choropleth\"}], \"contour\": [{\"colorbar\": {\"outlinewidth\": 0, \"ticks\": \"\"}, \"colorscale\": [[0.0, \"#0d0887\"], [0.1111111111111111, \"#46039f\"], [0.2222222222222222, \"#7201a8\"], [0.3333333333333333, \"#9c179e\"], [0.4444444444444444, \"#bd3786\"], [0.5555555555555556, \"#d8576b\"], [0.6666666666666666, \"#ed7953\"], [0.7777777777777778, \"#fb9f3a\"], [0.8888888888888888, \"#fdca26\"], [1.0, \"#f0f921\"]], \"type\": \"contour\"}], \"contourcarpet\": [{\"colorbar\": {\"outlinewidth\": 0, \"ticks\": \"\"}, \"type\": \"contourcarpet\"}], \"heatmap\": [{\"colorbar\": {\"outlinewidth\": 0, \"ticks\": \"\"}, \"colorscale\": [[0.0, \"#0d0887\"], [0.1111111111111111, \"#46039f\"], [0.2222222222222222, \"#7201a8\"], [0.3333333333333333, \"#9c179e\"], [0.4444444444444444, \"#bd3786\"], [0.5555555555555556, \"#d8576b\"], [0.6666666666666666, \"#ed7953\"], [0.7777777777777778, \"#fb9f3a\"], [0.8888888888888888, \"#fdca26\"], [1.0, \"#f0f921\"]], \"type\": \"heatmap\"}], \"heatmapgl\": [{\"colorbar\": {\"outlinewidth\": 0, \"ticks\": \"\"}, \"colorscale\": [[0.0, \"#0d0887\"], [0.1111111111111111, \"#46039f\"], [0.2222222222222222, \"#7201a8\"], [0.3333333333333333, \"#9c179e\"], [0.4444444444444444, \"#bd3786\"], [0.5555555555555556, \"#d8576b\"], [0.6666666666666666, \"#ed7953\"], [0.7777777777777778, \"#fb9f3a\"], [0.8888888888888888, \"#fdca26\"], [1.0, \"#f0f921\"]], \"type\": \"heatmapgl\"}], \"histogram\": [{\"marker\": {\"colorbar\": {\"outlinewidth\": 0, \"ticks\": \"\"}}, \"type\": \"histogram\"}], \"histogram2d\": [{\"colorbar\": {\"outlinewidth\": 0, \"ticks\": \"\"}, \"colorscale\": [[0.0, \"#0d0887\"], [0.1111111111111111, \"#46039f\"], [0.2222222222222222, \"#7201a8\"], [0.3333333333333333, \"#9c179e\"], [0.4444444444444444, \"#bd3786\"], [0.5555555555555556, \"#d8576b\"], [0.6666666666666666, \"#ed7953\"], [0.7777777777777778, \"#fb9f3a\"], [0.8888888888888888, \"#fdca26\"], [1.0, \"#f0f921\"]], \"type\": \"histogram2d\"}], \"histogram2dcontour\": [{\"colorbar\": {\"outlinewidth\": 0, \"ticks\": \"\"}, \"colorscale\": [[0.0, \"#0d0887\"], [0.1111111111111111, \"#46039f\"], [0.2222222222222222, \"#7201a8\"], [0.3333333333333333, \"#9c179e\"], [0.4444444444444444, \"#bd3786\"], [0.5555555555555556, \"#d8576b\"], [0.6666666666666666, \"#ed7953\"], [0.7777777777777778, \"#fb9f3a\"], [0.8888888888888888, \"#fdca26\"], [1.0, \"#f0f921\"]], \"type\": \"histogram2dcontour\"}], \"mesh3d\": [{\"colorbar\": {\"outlinewidth\": 0, \"ticks\": \"\"}, \"type\": \"mesh3d\"}], \"parcoords\": [{\"line\": {\"colorbar\": {\"outlinewidth\": 0, \"ticks\": \"\"}}, \"type\": \"parcoords\"}], \"pie\": [{\"automargin\": true, \"type\": \"pie\"}], \"scatter\": [{\"marker\": {\"colorbar\": {\"outlinewidth\": 0, \"ticks\": \"\"}}, \"type\": \"scatter\"}], \"scatter3d\": [{\"line\": {\"colorbar\": {\"outlinewidth\": 0, \"ticks\": \"\"}}, \"marker\": {\"colorbar\": {\"outlinewidth\": 0, \"ticks\": \"\"}}, \"type\": \"scatter3d\"}], \"scattercarpet\": [{\"marker\": {\"colorbar\": {\"outlinewidth\": 0, \"ticks\": \"\"}}, \"type\": \"scattercarpet\"}], \"scattergeo\": [{\"marker\": {\"colorbar\": {\"outlinewidth\": 0, \"ticks\": \"\"}}, \"type\": \"scattergeo\"}], \"scattergl\": [{\"marker\": {\"colorbar\": {\"outlinewidth\": 0, \"ticks\": \"\"}}, \"type\": \"scattergl\"}], \"scattermapbox\": [{\"marker\": {\"colorbar\": {\"outlinewidth\": 0, \"ticks\": \"\"}}, \"type\": \"scattermapbox\"}], \"scatterpolar\": [{\"marker\": {\"colorbar\": {\"outlinewidth\": 0, \"ticks\": \"\"}}, \"type\": \"scatterpolar\"}], \"scatterpolargl\": [{\"marker\": {\"colorbar\": {\"outlinewidth\": 0, \"ticks\": \"\"}}, \"type\": \"scatterpolargl\"}], \"scatterternary\": [{\"marker\": {\"colorbar\": {\"outlinewidth\": 0, \"ticks\": \"\"}}, \"type\": \"scatterternary\"}], \"surface\": [{\"colorbar\": {\"outlinewidth\": 0, \"ticks\": \"\"}, \"colorscale\": [[0.0, \"#0d0887\"], [0.1111111111111111, \"#46039f\"], [0.2222222222222222, \"#7201a8\"], [0.3333333333333333, \"#9c179e\"], [0.4444444444444444, \"#bd3786\"], [0.5555555555555556, \"#d8576b\"], [0.6666666666666666, \"#ed7953\"], [0.7777777777777778, \"#fb9f3a\"], [0.8888888888888888, \"#fdca26\"], [1.0, \"#f0f921\"]], \"type\": \"surface\"}], \"table\": [{\"cells\": {\"fill\": {\"color\": \"#EBF0F8\"}, \"line\": {\"color\": \"white\"}}, \"header\": {\"fill\": {\"color\": \"#C8D4E3\"}, \"line\": {\"color\": \"white\"}}, \"type\": \"table\"}]}, \"layout\": {\"annotationdefaults\": {\"arrowcolor\": \"#2a3f5f\", \"arrowhead\": 0, \"arrowwidth\": 1}, \"autotypenumbers\": \"strict\", \"coloraxis\": {\"colorbar\": {\"outlinewidth\": 0, \"ticks\": \"\"}}, \"colorscale\": {\"diverging\": [[0, \"#8e0152\"], [0.1, \"#c51b7d\"], [0.2, \"#de77ae\"], [0.3, \"#f1b6da\"], [0.4, \"#fde0ef\"], [0.5, \"#f7f7f7\"], [0.6, \"#e6f5d0\"], [0.7, \"#b8e186\"], [0.8, \"#7fbc41\"], [0.9, \"#4d9221\"], [1, \"#276419\"]], \"sequential\": [[0.0, \"#0d0887\"], [0.1111111111111111, \"#46039f\"], [0.2222222222222222, \"#7201a8\"], [0.3333333333333333, \"#9c179e\"], [0.4444444444444444, \"#bd3786\"], [0.5555555555555556, \"#d8576b\"], [0.6666666666666666, \"#ed7953\"], [0.7777777777777778, \"#fb9f3a\"], [0.8888888888888888, \"#fdca26\"], [1.0, \"#f0f921\"]], \"sequentialminus\": [[0.0, \"#0d0887\"], [0.1111111111111111, \"#46039f\"], [0.2222222222222222, \"#7201a8\"], [0.3333333333333333, \"#9c179e\"], [0.4444444444444444, \"#bd3786\"], [0.5555555555555556, \"#d8576b\"], [0.6666666666666666, \"#ed7953\"], [0.7777777777777778, \"#fb9f3a\"], [0.8888888888888888, \"#fdca26\"], [1.0, \"#f0f921\"]]}, \"colorway\": [\"#636efa\", \"#EF553B\", \"#00cc96\", \"#ab63fa\", \"#FFA15A\", \"#19d3f3\", \"#FF6692\", \"#B6E880\", \"#FF97FF\", \"#FECB52\"], \"font\": {\"color\": \"#2a3f5f\"}, \"geo\": {\"bgcolor\": \"white\", \"lakecolor\": \"white\", \"landcolor\": \"#E5ECF6\", \"showlakes\": true, \"showland\": true, \"subunitcolor\": \"white\"}, \"hoverlabel\": {\"align\": \"left\"}, \"hovermode\": \"closest\", \"mapbox\": {\"style\": \"light\"}, \"paper_bgcolor\": \"white\", \"plot_bgcolor\": \"#E5ECF6\", \"polar\": {\"angularaxis\": {\"gridcolor\": \"white\", \"linecolor\": \"white\", \"ticks\": \"\"}, \"bgcolor\": \"#E5ECF6\", \"radialaxis\": {\"gridcolor\": \"white\", \"linecolor\": \"white\", \"ticks\": \"\"}}, \"scene\": {\"xaxis\": {\"backgroundcolor\": \"#E5ECF6\", \"gridcolor\": \"white\", \"gridwidth\": 2, \"linecolor\": \"white\", \"showbackground\": true, \"ticks\": \"\", \"zerolinecolor\": \"white\"}, \"yaxis\": {\"backgroundcolor\": \"#E5ECF6\", \"gridcolor\": \"white\", \"gridwidth\": 2, \"linecolor\": \"white\", \"showbackground\": true, \"ticks\": \"\", \"zerolinecolor\": \"white\"}, \"zaxis\": {\"backgroundcolor\": \"#E5ECF6\", \"gridcolor\": \"white\", \"gridwidth\": 2, \"linecolor\": \"white\", \"showbackground\": true, \"ticks\": \"\", \"zerolinecolor\": \"white\"}}, \"shapedefaults\": {\"line\": {\"color\": \"#2a3f5f\"}}, \"ternary\": {\"aaxis\": {\"gridcolor\": \"white\", \"linecolor\": \"white\", \"ticks\": \"\"}, \"baxis\": {\"gridcolor\": \"white\", \"linecolor\": \"white\", \"ticks\": \"\"}, \"bgcolor\": \"#E5ECF6\", \"caxis\": {\"gridcolor\": \"white\", \"linecolor\": \"white\", \"ticks\": \"\"}}, \"title\": {\"x\": 0.05}, \"xaxis\": {\"automargin\": true, \"gridcolor\": \"white\", \"linecolor\": \"white\", \"ticks\": \"\", \"title\": {\"standoff\": 15}, \"zerolinecolor\": \"white\", \"zerolinewidth\": 2}, \"yaxis\": {\"automargin\": true, \"gridcolor\": \"white\", \"linecolor\": \"white\", \"ticks\": \"\", \"title\": {\"standoff\": 15}, \"zerolinecolor\": \"white\", \"zerolinewidth\": 2}}}},                        {\"responsive\": true}                    ).then(function(){\n",
       "                            \n",
       "var gd = document.getElementById('bcd72df2-b478-4c11-b6aa-9f7fa7efc2d4');\n",
       "var x = new MutationObserver(function (mutations, observer) {{\n",
       "        var display = window.getComputedStyle(gd).display;\n",
       "        if (!display || display === 'none') {{\n",
       "            console.log([gd, 'removed!']);\n",
       "            Plotly.purge(gd);\n",
       "            observer.disconnect();\n",
       "        }}\n",
       "}});\n",
       "\n",
       "// Listen for the removal of the full notebook cells\n",
       "var notebookContainer = gd.closest('#notebook-container');\n",
       "if (notebookContainer) {{\n",
       "    x.observe(notebookContainer, {childList: true});\n",
       "}}\n",
       "\n",
       "// Listen for the clearing of the current output cell\n",
       "var outputEl = gd.closest('.output');\n",
       "if (outputEl) {{\n",
       "    x.observe(outputEl, {childList: true});\n",
       "}}\n",
       "\n",
       "                        })                };                });            </script>        </div>"
      ]
     },
     "metadata": {},
     "output_type": "display_data"
    }
   ],
   "source": [
    "grouped = df.groupby(\"Country\").sum()\n",
    "grouped = grouped.reset_index()\n",
    "grouped[\"Country\"][grouped[\"Small-Value-Momentum\"] <0.01] = \"Other\"\n",
    "#print(grouped)\n",
    "fig = px.pie(grouped, values='Small-Value-Momentum', names='Country')\n",
    "fig.show()"
   ]
  },
  {
   "cell_type": "code",
   "execution_count": null,
   "metadata": {},
   "outputs": [],
   "source": []
  }
 ],
 "metadata": {
  "kernelspec": {
   "display_name": "Python 3",
   "language": "python",
   "name": "python3"
  },
  "language_info": {
   "codemirror_mode": {
    "name": "ipython",
    "version": 3
   },
   "file_extension": ".py",
   "mimetype": "text/x-python",
   "name": "python",
   "nbconvert_exporter": "python",
   "pygments_lexer": "ipython3",
   "version": "3.8.8"
  }
 },
 "nbformat": 4,
 "nbformat_minor": 2
}
